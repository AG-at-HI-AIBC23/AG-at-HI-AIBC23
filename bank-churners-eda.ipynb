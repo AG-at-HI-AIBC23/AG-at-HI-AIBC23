{
 "cells": [
  {
   "cell_type": "markdown",
   "id": "f5b7e415",
   "metadata": {
    "cell_id": "00001-a9449a66-dd70-4c63-bb5c-6173ff0c44db",
    "deepnote_cell_type": "markdown",
    "papermill": {
     "duration": 0.034697,
     "end_time": "2022-01-13T21:32:06.716348",
     "exception": false,
     "start_time": "2022-01-13T21:32:06.681651",
     "status": "completed"
    },
    "tags": []
   },
   "source": [
    "# Exploratory data anaysis of a bank customer churn datset\n",
    "\n",
    "The dataset can be found on [here](https://www.kaggle.com/sakshigoyal7/credit-card-customers) on kaggle.com."
   ]
  },
  {
   "cell_type": "markdown",
   "id": "38a6e58e",
   "metadata": {
    "cell_id": "00001-183b5f73-ccb7-44c4-9195-d483e4a664ad",
    "deepnote_cell_type": "markdown",
    "papermill": {
     "duration": 0.033117,
     "end_time": "2022-01-13T21:32:06.783393",
     "exception": false,
     "start_time": "2022-01-13T21:32:06.750276",
     "status": "completed"
    },
    "tags": []
   },
   "source": [
    "## Intoduction\n",
    "\n",
    "In this notebook contains a data analysis on the credit card customers data to draw infrences on the churning customers behaviors before they cancel thier credit cards. Then random forrest algorithm and a neural network will be used to classify the customers as Current customers (Customers who did not cancel there credit cards) and churning customers (Customers who cancelled their credit cards). The random forrest will be used to analyse the importance of each feature and the fie least important features will be removed before trining neural network. A datasampling technique using SMOTE was introduced in version three to reduce gape between two classes"
   ]
  },
  {
   "cell_type": "markdown",
   "id": "027587dd",
   "metadata": {
    "cell_id": "00002-e8664fe0-c99d-4da6-b134-9c4438fbd725",
    "deepnote_cell_type": "markdown",
    "papermill": {
     "duration": 0.03506,
     "end_time": "2022-01-13T21:32:06.851661",
     "exception": false,
     "start_time": "2022-01-13T21:32:06.816601",
     "status": "completed"
    },
    "tags": []
   },
   "source": [
    "## What is churn and why does it matter? \n",
    "Customer churn means \n",
    "\n",
    "Customers leaving the product or service provided by companies is commun do to a multitude of factors. Understanding this metric for companies is vital as it provides better insights in \n",
    "\n",
    "For the bank, understanding why the custermers are churning is very important as the competition of new fintechs is growing. A growing churn can mean a couple of things:\n",
    "- The economic implication of a growing churn rate will result in lowering the customer lifetime value, witch may lead to lower revenue and profit margins. It may also lead to a lower market share due to loss of customers to compatitors. One other economic aspect related to churn is the term customer accuazision cost, with is the avrege cost for accuaring a new customer. The norm is that its more expensive to accuire a new customer then trying to keed an existing customer. \n",
    "- If customers are leaving it may also indicate that some things are not working with the product or service. Those type of signals in the organisation are important to understand and aress as soon as possible to keep the current customers and gain new ones. \n",
    "\n",
    "This is why it's one of the most important metrics to understand and monitor for companies.\n",
    "\n",
    "\n"
   ]
  },
  {
   "cell_type": "markdown",
   "id": "cb01127b",
   "metadata": {
    "cell_id": "e6452003-8fb4-411e-9341-583d8b4d7254",
    "deepnote_cell_type": "markdown",
    "papermill": {
     "duration": 0.03556,
     "end_time": "2022-01-13T21:32:06.920583",
     "exception": false,
     "start_time": "2022-01-13T21:32:06.885023",
     "status": "completed"
    },
    "tags": []
   },
   "source": [
    "## Problem Statement\n",
    " To understand churn it would be benefitial to set some relevant metrics when mesuring it. One central metic to mesure is time, ie. how long has the client used the products/services? The relevant metrics for mesuring churn may vary depending on the industry and type of customer interaction that is important for the company. For most companies it may be revenue, conversion rates or some other similar metric, but for some, like facebook / instagram, it may be engagement and time spend on the platform. "
   ]
  },
  {
   "cell_type": "markdown",
   "id": "c77417a1",
   "metadata": {
    "cell_id": "fdc18c2a-7f9c-4058-a2f2-4e799cf87262",
    "deepnote_cell_type": "markdown",
    "papermill": {
     "duration": 0.033283,
     "end_time": "2022-01-13T21:32:06.987362",
     "exception": false,
     "start_time": "2022-01-13T21:32:06.954079",
     "status": "completed"
    },
    "tags": []
   },
   "source": [
    "**The information given about the dataset is:** <br> \n",
    "_A business manager of a consumer credit card portfolio is facing the problem of customer attrition. They want to analyze the data to find out the reason behind this and leverage the same to predict customers who are likely to drop off._"
   ]
  },
  {
   "cell_type": "markdown",
   "id": "fc956a0b",
   "metadata": {
    "cell_id": "bf898990-ab60-43ba-acab-d9b4ba772b7b",
    "deepnote_cell_type": "markdown",
    "papermill": {
     "duration": 0.033531,
     "end_time": "2022-01-13T21:32:07.054892",
     "exception": false,
     "start_time": "2022-01-13T21:32:07.021361",
     "status": "completed"
    },
    "tags": []
   },
   "source": [
    "\n",
    "## The objectives \n",
    "> **The objective of this analysis is to understand what customers are at risk for churning and visualize that in a clear and consise way.**"
   ]
  },
  {
   "cell_type": "markdown",
   "id": "fc6c0546",
   "metadata": {
    "cell_id": "33afc7ba-8813-46bc-8cbb-acff32f4e201",
    "deepnote_cell_type": "markdown",
    "papermill": {
     "duration": 0.032974,
     "end_time": "2022-01-13T21:32:07.121401",
     "exception": false,
     "start_time": "2022-01-13T21:32:07.088427",
     "status": "completed"
    },
    "tags": []
   },
   "source": [
    "\n",
    "**The scope:**\n",
    "\n",
    "**The scope is to do an data exploratory analysis to understand what circumstances effect the churnrate. If possible we will explore proposals for improving the churnrate or what data and questions would be relevant to explore further to lower the churnrate.**\n",
    "\n",
    "\n",
    "_We are going to cover the following steps:_\n",
    "- Download the dataset\n",
    "- Import/install libraries\n",
    "- Import the data into a pandas dataframe\n",
    "- Get to know more about the dataset\n",
    "- Clean the dataset \n",
    "- Do an exploratory data analysis\n",
    "- What insigts can we gain from the analysis? \n",
    "- What is the impact of the insights? Action items to explore. \n",
    "- Further exploration and questions\n",
    "\n",
    "References\n",
    "\n",
    "\n",
    "Let's get started."
   ]
  },
  {
   "cell_type": "markdown",
   "id": "fbc6cf3c",
   "metadata": {
    "cell_id": "76368bc9-9cc6-4174-894f-61355fc15b50",
    "deepnote_cell_type": "markdown",
    "papermill": {
     "duration": 0.033688,
     "end_time": "2022-01-13T21:32:07.189329",
     "exception": false,
     "start_time": "2022-01-13T21:32:07.155641",
     "status": "completed"
    },
    "tags": []
   },
   "source": []
  },
  {
   "cell_type": "markdown",
   "id": "183afc07",
   "metadata": {
    "cell_id": "00000-5e1b8b05-31d8-489d-9781-25ade7848180",
    "deepnote_cell_type": "markdown",
    "papermill": {
     "duration": 0.033716,
     "end_time": "2022-01-13T21:32:07.256597",
     "exception": false,
     "start_time": "2022-01-13T21:32:07.222881",
     "status": "completed"
    },
    "tags": []
   },
   "source": [
    "### Questions in the data analysis:\n",
    "- Does the credit card utilization ratio lower in churning customers?\n",
    "- What is the influence of the income category on people with a cetrain martial status for leaving the service?\n",
    "- What card category customers needs most attention from the service providers?"
   ]
  },
  {
   "cell_type": "markdown",
   "id": "8337af20",
   "metadata": {
    "cell_id": "00002-a9d599cd-212f-4a96-b026-158c29a181f2",
    "deepnote_cell_type": "markdown",
    "papermill": {
     "duration": 0.033323,
     "end_time": "2022-01-13T21:32:07.323227",
     "exception": false,
     "start_time": "2022-01-13T21:32:07.289904",
     "status": "completed"
    },
    "tags": []
   },
   "source": [
    "First lets import the libraries we will be using. Today we will use pandas for the exploratory data analysis. For visualizing the data we will be using matplotlib, seaborn and plotly "
   ]
  },
  {
   "cell_type": "code",
   "execution_count": 1,
   "id": "943c3979",
   "metadata": {
    "execution": {
     "iopub.execute_input": "2022-01-13T21:32:07.398914Z",
     "iopub.status.busy": "2022-01-13T21:32:07.398263Z",
     "iopub.status.idle": "2022-01-13T21:32:19.281871Z",
     "shell.execute_reply": "2022-01-13T21:32:19.281179Z",
     "shell.execute_reply.started": "2022-01-13T21:27:55.554933Z"
    },
    "papermill": {
     "duration": 11.925283,
     "end_time": "2022-01-13T21:32:19.282052",
     "exception": false,
     "start_time": "2022-01-13T21:32:07.356769",
     "status": "completed"
    },
    "tags": []
   },
   "outputs": [
    {
     "name": "stdout",
     "output_type": "stream",
     "text": [
      "\u001b[33mWARNING: Running pip as the 'root' user can result in broken permissions and conflicting behaviour with the system package manager. It is recommended to use a virtual environment instead: https://pip.pypa.io/warnings/venv\u001b[0m\r\n"
     ]
    }
   ],
   "source": [
    "# Remove the # and run the cell if the you get an error message.\n",
    "!pip install opendatasets -q \n"
   ]
  },
  {
   "cell_type": "code",
   "execution_count": 2,
   "id": "b860d9a2",
   "metadata": {
    "cell_id": "00002-931eb779-6f36-4e87-bf86-5cd1792e0895",
    "deepnote_cell_type": "code",
    "deepnote_to_be_reexecuted": false,
    "execution": {
     "iopub.execute_input": "2022-01-13T21:32:19.355735Z",
     "iopub.status.busy": "2022-01-13T21:32:19.355085Z",
     "iopub.status.idle": "2022-01-13T21:32:19.357471Z",
     "shell.execute_reply": "2022-01-13T21:32:19.357998Z",
     "shell.execute_reply.started": "2022-01-13T21:28:06.283397Z"
    },
    "execution_millis": 0,
    "execution_start": 1642088230671,
    "papermill": {
     "duration": 0.041583,
     "end_time": "2022-01-13T21:32:19.358157",
     "exception": false,
     "start_time": "2022-01-13T21:32:19.316574",
     "status": "completed"
    },
    "source_hash": "5ddda620",
    "tags": []
   },
   "outputs": [],
   "source": [
    "# For importing and analysing the data\n",
    "#import opendatasets as od #used for downloading the dataset from kaggle\n",
    "import pandas as pd #used for the main exploratory data analysis and working with the dataset\n",
    "import numpy as np #used for numerical and statistical analysis\n"
   ]
  },
  {
   "cell_type": "markdown",
   "id": "0ba0f15b",
   "metadata": {
    "cell_id": "00004-8355fdbb-4869-47f7-b469-6a2b90e888c0",
    "deepnote_cell_type": "markdown",
    "papermill": {
     "duration": 0.033636,
     "end_time": "2022-01-13T21:32:19.425660",
     "exception": false,
     "start_time": "2022-01-13T21:32:19.392024",
     "status": "completed"
    },
    "tags": []
   },
   "source": [
    "### Downloading the data"
   ]
  },
  {
   "cell_type": "code",
   "execution_count": 3,
   "id": "b7bb15df",
   "metadata": {
    "cell_id": "00005-e5fab03c-ab66-4e76-9c64-fb2c93e091b5",
    "deepnote_cell_type": "code",
    "deepnote_to_be_reexecuted": false,
    "execution": {
     "iopub.execute_input": "2022-01-13T21:32:19.497274Z",
     "iopub.status.busy": "2022-01-13T21:32:19.496683Z",
     "iopub.status.idle": "2022-01-13T21:32:19.499573Z",
     "shell.execute_reply": "2022-01-13T21:32:19.498935Z",
     "shell.execute_reply.started": "2022-01-13T21:28:06.322852Z"
    },
    "execution_millis": 5,
    "execution_start": 1642088233049,
    "papermill": {
     "duration": 0.040163,
     "end_time": "2022-01-13T21:32:19.499717",
     "exception": false,
     "start_time": "2022-01-13T21:32:19.459554",
     "status": "completed"
    },
    "source_hash": "5b99e171",
    "tags": []
   },
   "outputs": [],
   "source": [
    "#dataset_url = 'https://www.kaggle.com/sakshigoyal7/credit-card-customers'\n",
    "#od.download(dataset_url)"
   ]
  },
  {
   "cell_type": "markdown",
   "id": "2022f9a0",
   "metadata": {
    "cell_id": "00006-5a508c9f-6585-451a-90f7-3e148d9aa92c",
    "deepnote_cell_type": "markdown",
    "papermill": {
     "duration": 0.033365,
     "end_time": "2022-01-13T21:32:19.566602",
     "exception": false,
     "start_time": "2022-01-13T21:32:19.533237",
     "status": "completed"
    },
    "tags": []
   },
   "source": [
    "### Importing the data into a pandas dataframe"
   ]
  },
  {
   "cell_type": "code",
   "execution_count": 4,
   "id": "740b5074",
   "metadata": {
    "cell_id": "00005-df5341a5-66f7-45f2-8d55-80791529b5af",
    "deepnote_cell_type": "code",
    "deepnote_to_be_reexecuted": false,
    "execution": {
     "iopub.execute_input": "2022-01-13T21:32:19.640715Z",
     "iopub.status.busy": "2022-01-13T21:32:19.640007Z",
     "iopub.status.idle": "2022-01-13T21:32:19.722874Z",
     "shell.execute_reply": "2022-01-13T21:32:19.723413Z",
     "shell.execute_reply.started": "2022-01-13T21:29:19.448389Z"
    },
    "execution_millis": 2,
    "execution_start": 1642088237114,
    "papermill": {
     "duration": 0.122806,
     "end_time": "2022-01-13T21:32:19.723627",
     "exception": false,
     "start_time": "2022-01-13T21:32:19.600821",
     "status": "completed"
    },
    "source_hash": "6c0db04a",
    "tags": []
   },
   "outputs": [],
   "source": [
    "# First, lets import the data into a dataframe by reding the csv file we downloaded\n",
    "credit_data = pd.read_csv('../input/credit-card-customers/BankChurners.csv')\n",
    "\n",
    "\n",
    "#Second, lets make a copy of the dataframe (df) to use for the initial exploration of the data\n",
    "df = credit_data.copy()"
   ]
  },
  {
   "cell_type": "code",
   "execution_count": 5,
   "id": "2010189a",
   "metadata": {
    "cell_id": "00009-68ef4490-00e9-441c-9553-51af114a3e72",
    "deepnote_cell_type": "code",
    "deepnote_output_heights": [
     33.1875
    ],
    "deepnote_to_be_reexecuted": false,
    "execution": {
     "iopub.execute_input": "2022-01-13T21:32:19.794138Z",
     "iopub.status.busy": "2022-01-13T21:32:19.793229Z",
     "iopub.status.idle": "2022-01-13T21:32:19.798392Z",
     "shell.execute_reply": "2022-01-13T21:32:19.798951Z",
     "shell.execute_reply.started": "2022-01-13T21:29:19.623987Z"
    },
    "execution_millis": 6,
    "execution_start": 1642088237239,
    "papermill": {
     "duration": 0.041685,
     "end_time": "2022-01-13T21:32:19.799111",
     "exception": false,
     "start_time": "2022-01-13T21:32:19.757426",
     "status": "completed"
    },
    "source_hash": "7605fbbd",
    "tags": []
   },
   "outputs": [
    {
     "name": "stdout",
     "output_type": "stream",
     "text": [
      "Data has 10127 samples or rows and 23 features or columns.\n"
     ]
    }
   ],
   "source": [
    "# Lets look at the shape of the dataset\n",
    "\n",
    "print('Data has {} samples or rows and {} features or columns.'.format(df.shape[0], df.shape[1]))"
   ]
  },
  {
   "cell_type": "markdown",
   "id": "eee83426",
   "metadata": {
    "cell_id": "00009-bad14216-6f2c-4506-a6a2-d6dcac2e6407",
    "deepnote_cell_type": "markdown",
    "papermill": {
     "duration": 0.033525,
     "end_time": "2022-01-13T21:32:19.865868",
     "exception": false,
     "start_time": "2022-01-13T21:32:19.832343",
     "status": "completed"
    },
    "tags": []
   },
   "source": [
    "**Now lets see the first 10 rows of the dataset:**"
   ]
  },
  {
   "cell_type": "code",
   "execution_count": 6,
   "id": "1685e0a3",
   "metadata": {
    "cell_id": "00008-2f8992e7-2532-4460-bdd9-34f38626fbaf",
    "deepnote_cell_type": "code",
    "deepnote_output_heights": [
     353.1875
    ],
    "deepnote_to_be_reexecuted": false,
    "execution": {
     "iopub.execute_input": "2022-01-13T21:32:19.938578Z",
     "iopub.status.busy": "2022-01-13T21:32:19.937526Z",
     "iopub.status.idle": "2022-01-13T21:32:19.981882Z",
     "shell.execute_reply": "2022-01-13T21:32:19.982374Z",
     "shell.execute_reply.started": "2022-01-13T21:29:21.068421Z"
    },
    "execution_millis": 165,
    "execution_start": 1642088242894,
    "papermill": {
     "duration": 0.082967,
     "end_time": "2022-01-13T21:32:19.982561",
     "exception": false,
     "start_time": "2022-01-13T21:32:19.899594",
     "status": "completed"
    },
    "source_hash": "f30f989a",
    "tags": []
   },
   "outputs": [
    {
     "data": {
      "text/html": [
       "<div>\n",
       "<style scoped>\n",
       "    .dataframe tbody tr th:only-of-type {\n",
       "        vertical-align: middle;\n",
       "    }\n",
       "\n",
       "    .dataframe tbody tr th {\n",
       "        vertical-align: top;\n",
       "    }\n",
       "\n",
       "    .dataframe thead th {\n",
       "        text-align: right;\n",
       "    }\n",
       "</style>\n",
       "<table border=\"1\" class=\"dataframe\">\n",
       "  <thead>\n",
       "    <tr style=\"text-align: right;\">\n",
       "      <th></th>\n",
       "      <th>CLIENTNUM</th>\n",
       "      <th>Attrition_Flag</th>\n",
       "      <th>Customer_Age</th>\n",
       "      <th>Gender</th>\n",
       "      <th>Dependent_count</th>\n",
       "      <th>Education_Level</th>\n",
       "      <th>Marital_Status</th>\n",
       "      <th>Income_Category</th>\n",
       "      <th>Card_Category</th>\n",
       "      <th>Months_on_book</th>\n",
       "      <th>...</th>\n",
       "      <th>Credit_Limit</th>\n",
       "      <th>Total_Revolving_Bal</th>\n",
       "      <th>Avg_Open_To_Buy</th>\n",
       "      <th>Total_Amt_Chng_Q4_Q1</th>\n",
       "      <th>Total_Trans_Amt</th>\n",
       "      <th>Total_Trans_Ct</th>\n",
       "      <th>Total_Ct_Chng_Q4_Q1</th>\n",
       "      <th>Avg_Utilization_Ratio</th>\n",
       "      <th>Naive_Bayes_Classifier_Attrition_Flag_Card_Category_Contacts_Count_12_mon_Dependent_count_Education_Level_Months_Inactive_12_mon_1</th>\n",
       "      <th>Naive_Bayes_Classifier_Attrition_Flag_Card_Category_Contacts_Count_12_mon_Dependent_count_Education_Level_Months_Inactive_12_mon_2</th>\n",
       "    </tr>\n",
       "  </thead>\n",
       "  <tbody>\n",
       "    <tr>\n",
       "      <th>0</th>\n",
       "      <td>768805383</td>\n",
       "      <td>Existing Customer</td>\n",
       "      <td>45</td>\n",
       "      <td>M</td>\n",
       "      <td>3</td>\n",
       "      <td>High School</td>\n",
       "      <td>Married</td>\n",
       "      <td>$60K - $80K</td>\n",
       "      <td>Blue</td>\n",
       "      <td>39</td>\n",
       "      <td>...</td>\n",
       "      <td>12691.0</td>\n",
       "      <td>777</td>\n",
       "      <td>11914.0</td>\n",
       "      <td>1.335</td>\n",
       "      <td>1144</td>\n",
       "      <td>42</td>\n",
       "      <td>1.625</td>\n",
       "      <td>0.061</td>\n",
       "      <td>0.000093</td>\n",
       "      <td>0.99991</td>\n",
       "    </tr>\n",
       "    <tr>\n",
       "      <th>1</th>\n",
       "      <td>818770008</td>\n",
       "      <td>Existing Customer</td>\n",
       "      <td>49</td>\n",
       "      <td>F</td>\n",
       "      <td>5</td>\n",
       "      <td>Graduate</td>\n",
       "      <td>Single</td>\n",
       "      <td>Less than $40K</td>\n",
       "      <td>Blue</td>\n",
       "      <td>44</td>\n",
       "      <td>...</td>\n",
       "      <td>8256.0</td>\n",
       "      <td>864</td>\n",
       "      <td>7392.0</td>\n",
       "      <td>1.541</td>\n",
       "      <td>1291</td>\n",
       "      <td>33</td>\n",
       "      <td>3.714</td>\n",
       "      <td>0.105</td>\n",
       "      <td>0.000057</td>\n",
       "      <td>0.99994</td>\n",
       "    </tr>\n",
       "    <tr>\n",
       "      <th>2</th>\n",
       "      <td>713982108</td>\n",
       "      <td>Existing Customer</td>\n",
       "      <td>51</td>\n",
       "      <td>M</td>\n",
       "      <td>3</td>\n",
       "      <td>Graduate</td>\n",
       "      <td>Married</td>\n",
       "      <td>$80K - $120K</td>\n",
       "      <td>Blue</td>\n",
       "      <td>36</td>\n",
       "      <td>...</td>\n",
       "      <td>3418.0</td>\n",
       "      <td>0</td>\n",
       "      <td>3418.0</td>\n",
       "      <td>2.594</td>\n",
       "      <td>1887</td>\n",
       "      <td>20</td>\n",
       "      <td>2.333</td>\n",
       "      <td>0.000</td>\n",
       "      <td>0.000021</td>\n",
       "      <td>0.99998</td>\n",
       "    </tr>\n",
       "    <tr>\n",
       "      <th>3</th>\n",
       "      <td>769911858</td>\n",
       "      <td>Existing Customer</td>\n",
       "      <td>40</td>\n",
       "      <td>F</td>\n",
       "      <td>4</td>\n",
       "      <td>High School</td>\n",
       "      <td>Unknown</td>\n",
       "      <td>Less than $40K</td>\n",
       "      <td>Blue</td>\n",
       "      <td>34</td>\n",
       "      <td>...</td>\n",
       "      <td>3313.0</td>\n",
       "      <td>2517</td>\n",
       "      <td>796.0</td>\n",
       "      <td>1.405</td>\n",
       "      <td>1171</td>\n",
       "      <td>20</td>\n",
       "      <td>2.333</td>\n",
       "      <td>0.760</td>\n",
       "      <td>0.000134</td>\n",
       "      <td>0.99987</td>\n",
       "    </tr>\n",
       "    <tr>\n",
       "      <th>4</th>\n",
       "      <td>709106358</td>\n",
       "      <td>Existing Customer</td>\n",
       "      <td>40</td>\n",
       "      <td>M</td>\n",
       "      <td>3</td>\n",
       "      <td>Uneducated</td>\n",
       "      <td>Married</td>\n",
       "      <td>$60K - $80K</td>\n",
       "      <td>Blue</td>\n",
       "      <td>21</td>\n",
       "      <td>...</td>\n",
       "      <td>4716.0</td>\n",
       "      <td>0</td>\n",
       "      <td>4716.0</td>\n",
       "      <td>2.175</td>\n",
       "      <td>816</td>\n",
       "      <td>28</td>\n",
       "      <td>2.500</td>\n",
       "      <td>0.000</td>\n",
       "      <td>0.000022</td>\n",
       "      <td>0.99998</td>\n",
       "    </tr>\n",
       "    <tr>\n",
       "      <th>5</th>\n",
       "      <td>713061558</td>\n",
       "      <td>Existing Customer</td>\n",
       "      <td>44</td>\n",
       "      <td>M</td>\n",
       "      <td>2</td>\n",
       "      <td>Graduate</td>\n",
       "      <td>Married</td>\n",
       "      <td>$40K - $60K</td>\n",
       "      <td>Blue</td>\n",
       "      <td>36</td>\n",
       "      <td>...</td>\n",
       "      <td>4010.0</td>\n",
       "      <td>1247</td>\n",
       "      <td>2763.0</td>\n",
       "      <td>1.376</td>\n",
       "      <td>1088</td>\n",
       "      <td>24</td>\n",
       "      <td>0.846</td>\n",
       "      <td>0.311</td>\n",
       "      <td>0.000055</td>\n",
       "      <td>0.99994</td>\n",
       "    </tr>\n",
       "    <tr>\n",
       "      <th>6</th>\n",
       "      <td>810347208</td>\n",
       "      <td>Existing Customer</td>\n",
       "      <td>51</td>\n",
       "      <td>M</td>\n",
       "      <td>4</td>\n",
       "      <td>Unknown</td>\n",
       "      <td>Married</td>\n",
       "      <td>$120K +</td>\n",
       "      <td>Gold</td>\n",
       "      <td>46</td>\n",
       "      <td>...</td>\n",
       "      <td>34516.0</td>\n",
       "      <td>2264</td>\n",
       "      <td>32252.0</td>\n",
       "      <td>1.975</td>\n",
       "      <td>1330</td>\n",
       "      <td>31</td>\n",
       "      <td>0.722</td>\n",
       "      <td>0.066</td>\n",
       "      <td>0.000123</td>\n",
       "      <td>0.99988</td>\n",
       "    </tr>\n",
       "    <tr>\n",
       "      <th>7</th>\n",
       "      <td>818906208</td>\n",
       "      <td>Existing Customer</td>\n",
       "      <td>32</td>\n",
       "      <td>M</td>\n",
       "      <td>0</td>\n",
       "      <td>High School</td>\n",
       "      <td>Unknown</td>\n",
       "      <td>$60K - $80K</td>\n",
       "      <td>Silver</td>\n",
       "      <td>27</td>\n",
       "      <td>...</td>\n",
       "      <td>29081.0</td>\n",
       "      <td>1396</td>\n",
       "      <td>27685.0</td>\n",
       "      <td>2.204</td>\n",
       "      <td>1538</td>\n",
       "      <td>36</td>\n",
       "      <td>0.714</td>\n",
       "      <td>0.048</td>\n",
       "      <td>0.000086</td>\n",
       "      <td>0.99991</td>\n",
       "    </tr>\n",
       "    <tr>\n",
       "      <th>8</th>\n",
       "      <td>710930508</td>\n",
       "      <td>Existing Customer</td>\n",
       "      <td>37</td>\n",
       "      <td>M</td>\n",
       "      <td>3</td>\n",
       "      <td>Uneducated</td>\n",
       "      <td>Single</td>\n",
       "      <td>$60K - $80K</td>\n",
       "      <td>Blue</td>\n",
       "      <td>36</td>\n",
       "      <td>...</td>\n",
       "      <td>22352.0</td>\n",
       "      <td>2517</td>\n",
       "      <td>19835.0</td>\n",
       "      <td>3.355</td>\n",
       "      <td>1350</td>\n",
       "      <td>24</td>\n",
       "      <td>1.182</td>\n",
       "      <td>0.113</td>\n",
       "      <td>0.000045</td>\n",
       "      <td>0.99996</td>\n",
       "    </tr>\n",
       "    <tr>\n",
       "      <th>9</th>\n",
       "      <td>719661558</td>\n",
       "      <td>Existing Customer</td>\n",
       "      <td>48</td>\n",
       "      <td>M</td>\n",
       "      <td>2</td>\n",
       "      <td>Graduate</td>\n",
       "      <td>Single</td>\n",
       "      <td>$80K - $120K</td>\n",
       "      <td>Blue</td>\n",
       "      <td>36</td>\n",
       "      <td>...</td>\n",
       "      <td>11656.0</td>\n",
       "      <td>1677</td>\n",
       "      <td>9979.0</td>\n",
       "      <td>1.524</td>\n",
       "      <td>1441</td>\n",
       "      <td>32</td>\n",
       "      <td>0.882</td>\n",
       "      <td>0.144</td>\n",
       "      <td>0.000303</td>\n",
       "      <td>0.99970</td>\n",
       "    </tr>\n",
       "  </tbody>\n",
       "</table>\n",
       "<p>10 rows × 23 columns</p>\n",
       "</div>"
      ],
      "text/plain": [
       "   CLIENTNUM     Attrition_Flag  Customer_Age Gender  Dependent_count  \\\n",
       "0  768805383  Existing Customer            45      M                3   \n",
       "1  818770008  Existing Customer            49      F                5   \n",
       "2  713982108  Existing Customer            51      M                3   \n",
       "3  769911858  Existing Customer            40      F                4   \n",
       "4  709106358  Existing Customer            40      M                3   \n",
       "5  713061558  Existing Customer            44      M                2   \n",
       "6  810347208  Existing Customer            51      M                4   \n",
       "7  818906208  Existing Customer            32      M                0   \n",
       "8  710930508  Existing Customer            37      M                3   \n",
       "9  719661558  Existing Customer            48      M                2   \n",
       "\n",
       "  Education_Level Marital_Status Income_Category Card_Category  \\\n",
       "0     High School        Married     $60K - $80K          Blue   \n",
       "1        Graduate         Single  Less than $40K          Blue   \n",
       "2        Graduate        Married    $80K - $120K          Blue   \n",
       "3     High School        Unknown  Less than $40K          Blue   \n",
       "4      Uneducated        Married     $60K - $80K          Blue   \n",
       "5        Graduate        Married     $40K - $60K          Blue   \n",
       "6         Unknown        Married         $120K +          Gold   \n",
       "7     High School        Unknown     $60K - $80K        Silver   \n",
       "8      Uneducated         Single     $60K - $80K          Blue   \n",
       "9        Graduate         Single    $80K - $120K          Blue   \n",
       "\n",
       "   Months_on_book  ...  Credit_Limit  Total_Revolving_Bal  Avg_Open_To_Buy  \\\n",
       "0              39  ...       12691.0                  777          11914.0   \n",
       "1              44  ...        8256.0                  864           7392.0   \n",
       "2              36  ...        3418.0                    0           3418.0   \n",
       "3              34  ...        3313.0                 2517            796.0   \n",
       "4              21  ...        4716.0                    0           4716.0   \n",
       "5              36  ...        4010.0                 1247           2763.0   \n",
       "6              46  ...       34516.0                 2264          32252.0   \n",
       "7              27  ...       29081.0                 1396          27685.0   \n",
       "8              36  ...       22352.0                 2517          19835.0   \n",
       "9              36  ...       11656.0                 1677           9979.0   \n",
       "\n",
       "   Total_Amt_Chng_Q4_Q1  Total_Trans_Amt  Total_Trans_Ct  Total_Ct_Chng_Q4_Q1  \\\n",
       "0                 1.335             1144              42                1.625   \n",
       "1                 1.541             1291              33                3.714   \n",
       "2                 2.594             1887              20                2.333   \n",
       "3                 1.405             1171              20                2.333   \n",
       "4                 2.175              816              28                2.500   \n",
       "5                 1.376             1088              24                0.846   \n",
       "6                 1.975             1330              31                0.722   \n",
       "7                 2.204             1538              36                0.714   \n",
       "8                 3.355             1350              24                1.182   \n",
       "9                 1.524             1441              32                0.882   \n",
       "\n",
       "   Avg_Utilization_Ratio  \\\n",
       "0                  0.061   \n",
       "1                  0.105   \n",
       "2                  0.000   \n",
       "3                  0.760   \n",
       "4                  0.000   \n",
       "5                  0.311   \n",
       "6                  0.066   \n",
       "7                  0.048   \n",
       "8                  0.113   \n",
       "9                  0.144   \n",
       "\n",
       "   Naive_Bayes_Classifier_Attrition_Flag_Card_Category_Contacts_Count_12_mon_Dependent_count_Education_Level_Months_Inactive_12_mon_1  \\\n",
       "0                                           0.000093                                                                                    \n",
       "1                                           0.000057                                                                                    \n",
       "2                                           0.000021                                                                                    \n",
       "3                                           0.000134                                                                                    \n",
       "4                                           0.000022                                                                                    \n",
       "5                                           0.000055                                                                                    \n",
       "6                                           0.000123                                                                                    \n",
       "7                                           0.000086                                                                                    \n",
       "8                                           0.000045                                                                                    \n",
       "9                                           0.000303                                                                                    \n",
       "\n",
       "   Naive_Bayes_Classifier_Attrition_Flag_Card_Category_Contacts_Count_12_mon_Dependent_count_Education_Level_Months_Inactive_12_mon_2  \n",
       "0                                            0.99991                                                                                   \n",
       "1                                            0.99994                                                                                   \n",
       "2                                            0.99998                                                                                   \n",
       "3                                            0.99987                                                                                   \n",
       "4                                            0.99998                                                                                   \n",
       "5                                            0.99994                                                                                   \n",
       "6                                            0.99988                                                                                   \n",
       "7                                            0.99991                                                                                   \n",
       "8                                            0.99996                                                                                   \n",
       "9                                            0.99970                                                                                   \n",
       "\n",
       "[10 rows x 23 columns]"
      ]
     },
     "execution_count": 6,
     "metadata": {},
     "output_type": "execute_result"
    }
   ],
   "source": [
    "df.head(10)"
   ]
  },
  {
   "cell_type": "code",
   "execution_count": 7,
   "id": "db324d57",
   "metadata": {
    "cell_id": "00011-391b06ac-509f-41fc-8779-ee2ced540c34",
    "deepnote_cell_type": "code",
    "deepnote_output_heights": [
     443.3125
    ],
    "deepnote_to_be_reexecuted": false,
    "execution": {
     "iopub.execute_input": "2022-01-13T21:32:20.058107Z",
     "iopub.status.busy": "2022-01-13T21:32:20.057409Z",
     "iopub.status.idle": "2022-01-13T21:32:20.060750Z",
     "shell.execute_reply": "2022-01-13T21:32:20.060219Z",
     "shell.execute_reply.started": "2022-01-13T21:29:22.122397Z"
    },
    "execution_millis": 17,
    "execution_start": 1642088243061,
    "papermill": {
     "duration": 0.043589,
     "end_time": "2022-01-13T21:32:20.060887",
     "exception": false,
     "start_time": "2022-01-13T21:32:20.017298",
     "status": "completed"
    },
    "source_hash": "1039a82",
    "tags": []
   },
   "outputs": [
    {
     "data": {
      "text/plain": [
       "['CLIENTNUM',\n",
       " 'Attrition_Flag',\n",
       " 'Customer_Age',\n",
       " 'Gender',\n",
       " 'Dependent_count',\n",
       " 'Education_Level',\n",
       " 'Marital_Status',\n",
       " 'Income_Category',\n",
       " 'Card_Category',\n",
       " 'Months_on_book',\n",
       " 'Total_Relationship_Count',\n",
       " 'Months_Inactive_12_mon',\n",
       " 'Contacts_Count_12_mon',\n",
       " 'Credit_Limit',\n",
       " 'Total_Revolving_Bal',\n",
       " 'Avg_Open_To_Buy',\n",
       " 'Total_Amt_Chng_Q4_Q1',\n",
       " 'Total_Trans_Amt',\n",
       " 'Total_Trans_Ct',\n",
       " 'Total_Ct_Chng_Q4_Q1',\n",
       " 'Avg_Utilization_Ratio',\n",
       " 'Naive_Bayes_Classifier_Attrition_Flag_Card_Category_Contacts_Count_12_mon_Dependent_count_Education_Level_Months_Inactive_12_mon_1',\n",
       " 'Naive_Bayes_Classifier_Attrition_Flag_Card_Category_Contacts_Count_12_mon_Dependent_count_Education_Level_Months_Inactive_12_mon_2']"
      ]
     },
     "execution_count": 7,
     "metadata": {},
     "output_type": "execute_result"
    }
   ],
   "source": [
    "list(df.columns)"
   ]
  },
  {
   "cell_type": "markdown",
   "id": "2b48b224",
   "metadata": {
    "cell_id": "00011-508688d8-4fc4-404d-96e5-ae87d57cfa89",
    "deepnote_cell_type": "markdown",
    "papermill": {
     "duration": 0.035139,
     "end_time": "2022-01-13T21:32:20.131469",
     "exception": false,
     "start_time": "2022-01-13T21:32:20.096330",
     "status": "completed"
    },
    "tags": []
   },
   "source": [
    "At a quick glase we can allready see that the second columns, `Attrition_Flag` is the one feature that shows us the customers that left, and as such is proving a way to fint the churned customer. A second quick observation is that the colums `Marital_Status` has some `Unknows`values. Will will explore if that feature may have some relevans during the exploratory data analysis. "
   ]
  },
  {
   "cell_type": "markdown",
   "id": "dfdc7338",
   "metadata": {
    "cell_id": "00011-f22cb899-9d94-44da-b95e-7a27bafbc866",
    "deepnote_cell_type": "markdown",
    "papermill": {
     "duration": 0.035186,
     "end_time": "2022-01-13T21:32:20.201950",
     "exception": false,
     "start_time": "2022-01-13T21:32:20.166764",
     "status": "completed"
    },
    "tags": []
   },
   "source": [
    "Lets get a bit more aquinted with the dataset the exploring more info about it with the following commands: `df.info()` and `df.describe()`"
   ]
  },
  {
   "cell_type": "code",
   "execution_count": 8,
   "id": "495d0722",
   "metadata": {
    "cell_id": "00007-85c406fb-91fd-43da-b71c-fdb6d488ba70",
    "deepnote_cell_type": "code",
    "deepnote_to_be_reexecuted": false,
    "execution": {
     "iopub.execute_input": "2022-01-13T21:32:20.277507Z",
     "iopub.status.busy": "2022-01-13T21:32:20.276841Z",
     "iopub.status.idle": "2022-01-13T21:32:20.306348Z",
     "shell.execute_reply": "2022-01-13T21:32:20.305295Z",
     "shell.execute_reply.started": "2022-01-13T21:29:22.690536Z"
    },
    "execution_millis": 234,
    "execution_start": 1642088248787,
    "papermill": {
     "duration": 0.06946,
     "end_time": "2022-01-13T21:32:20.306550",
     "exception": false,
     "start_time": "2022-01-13T21:32:20.237090",
     "status": "completed"
    },
    "source_hash": "de1e323c",
    "tags": []
   },
   "outputs": [
    {
     "name": "stdout",
     "output_type": "stream",
     "text": [
      "<class 'pandas.core.frame.DataFrame'>\n",
      "RangeIndex: 10127 entries, 0 to 10126\n",
      "Data columns (total 23 columns):\n",
      " #   Column                                                                                                                              Non-Null Count  Dtype  \n",
      "---  ------                                                                                                                              --------------  -----  \n",
      " 0   CLIENTNUM                                                                                                                           10127 non-null  int64  \n",
      " 1   Attrition_Flag                                                                                                                      10127 non-null  object \n",
      " 2   Customer_Age                                                                                                                        10127 non-null  int64  \n",
      " 3   Gender                                                                                                                              10127 non-null  object \n",
      " 4   Dependent_count                                                                                                                     10127 non-null  int64  \n",
      " 5   Education_Level                                                                                                                     10127 non-null  object \n",
      " 6   Marital_Status                                                                                                                      10127 non-null  object \n",
      " 7   Income_Category                                                                                                                     10127 non-null  object \n",
      " 8   Card_Category                                                                                                                       10127 non-null  object \n",
      " 9   Months_on_book                                                                                                                      10127 non-null  int64  \n",
      " 10  Total_Relationship_Count                                                                                                            10127 non-null  int64  \n",
      " 11  Months_Inactive_12_mon                                                                                                              10127 non-null  int64  \n",
      " 12  Contacts_Count_12_mon                                                                                                               10127 non-null  int64  \n",
      " 13  Credit_Limit                                                                                                                        10127 non-null  float64\n",
      " 14  Total_Revolving_Bal                                                                                                                 10127 non-null  int64  \n",
      " 15  Avg_Open_To_Buy                                                                                                                     10127 non-null  float64\n",
      " 16  Total_Amt_Chng_Q4_Q1                                                                                                                10127 non-null  float64\n",
      " 17  Total_Trans_Amt                                                                                                                     10127 non-null  int64  \n",
      " 18  Total_Trans_Ct                                                                                                                      10127 non-null  int64  \n",
      " 19  Total_Ct_Chng_Q4_Q1                                                                                                                 10127 non-null  float64\n",
      " 20  Avg_Utilization_Ratio                                                                                                               10127 non-null  float64\n",
      " 21  Naive_Bayes_Classifier_Attrition_Flag_Card_Category_Contacts_Count_12_mon_Dependent_count_Education_Level_Months_Inactive_12_mon_1  10127 non-null  float64\n",
      " 22  Naive_Bayes_Classifier_Attrition_Flag_Card_Category_Contacts_Count_12_mon_Dependent_count_Education_Level_Months_Inactive_12_mon_2  10127 non-null  float64\n",
      "dtypes: float64(7), int64(10), object(6)\n",
      "memory usage: 1.8+ MB\n"
     ]
    }
   ],
   "source": [
    "df.info()"
   ]
  },
  {
   "cell_type": "markdown",
   "id": "0a543a62",
   "metadata": {
    "cell_id": "00015-7e2af85d-cef5-4856-92f1-c4bb54c0fbe8",
    "deepnote_cell_type": "markdown",
    "papermill": {
     "duration": 0.034701,
     "end_time": "2022-01-13T21:32:20.377052",
     "exception": false,
     "start_time": "2022-01-13T21:32:20.342351",
     "status": "completed"
    },
    "tags": []
   },
   "source": [
    "By the display we see the columns and the count of values for each column. We also see there is no `null` and `N/A`values in any of the collumns. It may still be some values that are unknown or wrong but those we will need to find in some other way. "
   ]
  },
  {
   "cell_type": "markdown",
   "id": "6552155d",
   "metadata": {
    "cell_id": "00018-5b93d131-78cb-432d-a032-b613f52e4e7d",
    "deepnote_cell_type": "markdown",
    "deepnote_output_heights": [
     328.1875
    ],
    "deepnote_to_be_reexecuted": false,
    "execution_millis": 287,
    "execution_start": 1641820751170,
    "papermill": {
     "duration": 0.035126,
     "end_time": "2022-01-13T21:32:20.447664",
     "exception": false,
     "start_time": "2022-01-13T21:32:20.412538",
     "status": "completed"
    },
    "source_hash": "f89729a4",
    "tags": []
   },
   "source": [
    "Now lets see what columns contain numerical values. We can display them by this command:"
   ]
  },
  {
   "cell_type": "code",
   "execution_count": 9,
   "id": "93cad712",
   "metadata": {
    "cell_id": "00019-5d32b56b-9dfc-4bb6-94d3-a233b34dcfa2",
    "deepnote_cell_type": "code",
    "deepnote_output_heights": [
     328.1875
    ],
    "deepnote_to_be_reexecuted": false,
    "execution": {
     "iopub.execute_input": "2022-01-13T21:32:20.522616Z",
     "iopub.status.busy": "2022-01-13T21:32:20.521988Z",
     "iopub.status.idle": "2022-01-13T21:32:20.529303Z",
     "shell.execute_reply": "2022-01-13T21:32:20.529832Z",
     "shell.execute_reply.started": "2022-01-13T21:29:23.233501Z"
    },
    "execution_millis": 1,
    "execution_start": 1642088252465,
    "papermill": {
     "duration": 0.046393,
     "end_time": "2022-01-13T21:32:20.530009",
     "exception": false,
     "start_time": "2022-01-13T21:32:20.483616",
     "status": "completed"
    },
    "source_hash": "d6397e48",
    "tags": []
   },
   "outputs": [
    {
     "data": {
      "text/plain": [
       "['CLIENTNUM',\n",
       " 'Customer_Age',\n",
       " 'Dependent_count',\n",
       " 'Months_on_book',\n",
       " 'Total_Relationship_Count',\n",
       " 'Months_Inactive_12_mon',\n",
       " 'Contacts_Count_12_mon',\n",
       " 'Credit_Limit',\n",
       " 'Total_Revolving_Bal',\n",
       " 'Avg_Open_To_Buy',\n",
       " 'Total_Amt_Chng_Q4_Q1',\n",
       " 'Total_Trans_Amt',\n",
       " 'Total_Trans_Ct',\n",
       " 'Total_Ct_Chng_Q4_Q1',\n",
       " 'Avg_Utilization_Ratio',\n",
       " 'Naive_Bayes_Classifier_Attrition_Flag_Card_Category_Contacts_Count_12_mon_Dependent_count_Education_Level_Months_Inactive_12_mon_1',\n",
       " 'Naive_Bayes_Classifier_Attrition_Flag_Card_Category_Contacts_Count_12_mon_Dependent_count_Education_Level_Months_Inactive_12_mon_2']"
      ]
     },
     "execution_count": 9,
     "metadata": {},
     "output_type": "execute_result"
    }
   ],
   "source": [
    "df.select_dtypes(include=np.number).columns.tolist()"
   ]
  },
  {
   "cell_type": "markdown",
   "id": "ed430bae",
   "metadata": {
    "cell_id": "00016-ad13ef41-9413-48a0-a5f5-4bce0c300f1f",
    "deepnote_cell_type": "markdown",
    "papermill": {
     "duration": 0.036128,
     "end_time": "2022-01-13T21:32:20.602072",
     "exception": false,
     "start_time": "2022-01-13T21:32:20.565944",
     "status": "completed"
    },
    "tags": []
   },
   "source": [
    "While looking at the numerical columns we can get the most common statistical data just by using the `df.describe()` command. "
   ]
  },
  {
   "cell_type": "code",
   "execution_count": 10,
   "id": "797674a4",
   "metadata": {
    "cell_id": "00013-47750ced-fcf8-430e-91ff-316e66d35f2a",
    "deepnote_cell_type": "code",
    "deepnote_output_heights": [
     264
    ],
    "deepnote_to_be_reexecuted": false,
    "execution": {
     "iopub.execute_input": "2022-01-13T21:32:20.679621Z",
     "iopub.status.busy": "2022-01-13T21:32:20.677437Z",
     "iopub.status.idle": "2022-01-13T21:32:20.740298Z",
     "shell.execute_reply": "2022-01-13T21:32:20.739607Z",
     "shell.execute_reply.started": "2022-01-13T21:29:23.624509Z"
    },
    "execution_millis": 153,
    "execution_start": 1642088252923,
    "papermill": {
     "duration": 0.101936,
     "end_time": "2022-01-13T21:32:20.740444",
     "exception": false,
     "start_time": "2022-01-13T21:32:20.638508",
     "status": "completed"
    },
    "source_hash": "f88152d9",
    "tags": []
   },
   "outputs": [
    {
     "data": {
      "text/html": [
       "<div>\n",
       "<style scoped>\n",
       "    .dataframe tbody tr th:only-of-type {\n",
       "        vertical-align: middle;\n",
       "    }\n",
       "\n",
       "    .dataframe tbody tr th {\n",
       "        vertical-align: top;\n",
       "    }\n",
       "\n",
       "    .dataframe thead th {\n",
       "        text-align: right;\n",
       "    }\n",
       "</style>\n",
       "<table border=\"1\" class=\"dataframe\">\n",
       "  <thead>\n",
       "    <tr style=\"text-align: right;\">\n",
       "      <th></th>\n",
       "      <th>CLIENTNUM</th>\n",
       "      <th>Customer_Age</th>\n",
       "      <th>Dependent_count</th>\n",
       "      <th>Months_on_book</th>\n",
       "      <th>Total_Relationship_Count</th>\n",
       "      <th>Months_Inactive_12_mon</th>\n",
       "      <th>Contacts_Count_12_mon</th>\n",
       "      <th>Credit_Limit</th>\n",
       "      <th>Total_Revolving_Bal</th>\n",
       "      <th>Avg_Open_To_Buy</th>\n",
       "      <th>Total_Amt_Chng_Q4_Q1</th>\n",
       "      <th>Total_Trans_Amt</th>\n",
       "      <th>Total_Trans_Ct</th>\n",
       "      <th>Total_Ct_Chng_Q4_Q1</th>\n",
       "      <th>Avg_Utilization_Ratio</th>\n",
       "      <th>Naive_Bayes_Classifier_Attrition_Flag_Card_Category_Contacts_Count_12_mon_Dependent_count_Education_Level_Months_Inactive_12_mon_1</th>\n",
       "      <th>Naive_Bayes_Classifier_Attrition_Flag_Card_Category_Contacts_Count_12_mon_Dependent_count_Education_Level_Months_Inactive_12_mon_2</th>\n",
       "    </tr>\n",
       "  </thead>\n",
       "  <tbody>\n",
       "    <tr>\n",
       "      <th>count</th>\n",
       "      <td>1.012700e+04</td>\n",
       "      <td>10127.000000</td>\n",
       "      <td>10127.000000</td>\n",
       "      <td>10127.000000</td>\n",
       "      <td>10127.000000</td>\n",
       "      <td>10127.000000</td>\n",
       "      <td>10127.000000</td>\n",
       "      <td>10127.000000</td>\n",
       "      <td>10127.000000</td>\n",
       "      <td>10127.000000</td>\n",
       "      <td>10127.000000</td>\n",
       "      <td>10127.000000</td>\n",
       "      <td>10127.000000</td>\n",
       "      <td>10127.000000</td>\n",
       "      <td>10127.000000</td>\n",
       "      <td>10127.000000</td>\n",
       "      <td>10127.000000</td>\n",
       "    </tr>\n",
       "    <tr>\n",
       "      <th>mean</th>\n",
       "      <td>7.391776e+08</td>\n",
       "      <td>46.325960</td>\n",
       "      <td>2.346203</td>\n",
       "      <td>35.928409</td>\n",
       "      <td>3.812580</td>\n",
       "      <td>2.341167</td>\n",
       "      <td>2.455317</td>\n",
       "      <td>8631.953698</td>\n",
       "      <td>1162.814061</td>\n",
       "      <td>7469.139637</td>\n",
       "      <td>0.759941</td>\n",
       "      <td>4404.086304</td>\n",
       "      <td>64.858695</td>\n",
       "      <td>0.712222</td>\n",
       "      <td>0.274894</td>\n",
       "      <td>0.159997</td>\n",
       "      <td>0.840003</td>\n",
       "    </tr>\n",
       "    <tr>\n",
       "      <th>std</th>\n",
       "      <td>3.690378e+07</td>\n",
       "      <td>8.016814</td>\n",
       "      <td>1.298908</td>\n",
       "      <td>7.986416</td>\n",
       "      <td>1.554408</td>\n",
       "      <td>1.010622</td>\n",
       "      <td>1.106225</td>\n",
       "      <td>9088.776650</td>\n",
       "      <td>814.987335</td>\n",
       "      <td>9090.685324</td>\n",
       "      <td>0.219207</td>\n",
       "      <td>3397.129254</td>\n",
       "      <td>23.472570</td>\n",
       "      <td>0.238086</td>\n",
       "      <td>0.275691</td>\n",
       "      <td>0.365301</td>\n",
       "      <td>0.365301</td>\n",
       "    </tr>\n",
       "    <tr>\n",
       "      <th>min</th>\n",
       "      <td>7.080821e+08</td>\n",
       "      <td>26.000000</td>\n",
       "      <td>0.000000</td>\n",
       "      <td>13.000000</td>\n",
       "      <td>1.000000</td>\n",
       "      <td>0.000000</td>\n",
       "      <td>0.000000</td>\n",
       "      <td>1438.300000</td>\n",
       "      <td>0.000000</td>\n",
       "      <td>3.000000</td>\n",
       "      <td>0.000000</td>\n",
       "      <td>510.000000</td>\n",
       "      <td>10.000000</td>\n",
       "      <td>0.000000</td>\n",
       "      <td>0.000000</td>\n",
       "      <td>0.000008</td>\n",
       "      <td>0.000420</td>\n",
       "    </tr>\n",
       "    <tr>\n",
       "      <th>25%</th>\n",
       "      <td>7.130368e+08</td>\n",
       "      <td>41.000000</td>\n",
       "      <td>1.000000</td>\n",
       "      <td>31.000000</td>\n",
       "      <td>3.000000</td>\n",
       "      <td>2.000000</td>\n",
       "      <td>2.000000</td>\n",
       "      <td>2555.000000</td>\n",
       "      <td>359.000000</td>\n",
       "      <td>1324.500000</td>\n",
       "      <td>0.631000</td>\n",
       "      <td>2155.500000</td>\n",
       "      <td>45.000000</td>\n",
       "      <td>0.582000</td>\n",
       "      <td>0.023000</td>\n",
       "      <td>0.000099</td>\n",
       "      <td>0.999660</td>\n",
       "    </tr>\n",
       "    <tr>\n",
       "      <th>50%</th>\n",
       "      <td>7.179264e+08</td>\n",
       "      <td>46.000000</td>\n",
       "      <td>2.000000</td>\n",
       "      <td>36.000000</td>\n",
       "      <td>4.000000</td>\n",
       "      <td>2.000000</td>\n",
       "      <td>2.000000</td>\n",
       "      <td>4549.000000</td>\n",
       "      <td>1276.000000</td>\n",
       "      <td>3474.000000</td>\n",
       "      <td>0.736000</td>\n",
       "      <td>3899.000000</td>\n",
       "      <td>67.000000</td>\n",
       "      <td>0.702000</td>\n",
       "      <td>0.176000</td>\n",
       "      <td>0.000181</td>\n",
       "      <td>0.999820</td>\n",
       "    </tr>\n",
       "    <tr>\n",
       "      <th>75%</th>\n",
       "      <td>7.731435e+08</td>\n",
       "      <td>52.000000</td>\n",
       "      <td>3.000000</td>\n",
       "      <td>40.000000</td>\n",
       "      <td>5.000000</td>\n",
       "      <td>3.000000</td>\n",
       "      <td>3.000000</td>\n",
       "      <td>11067.500000</td>\n",
       "      <td>1784.000000</td>\n",
       "      <td>9859.000000</td>\n",
       "      <td>0.859000</td>\n",
       "      <td>4741.000000</td>\n",
       "      <td>81.000000</td>\n",
       "      <td>0.818000</td>\n",
       "      <td>0.503000</td>\n",
       "      <td>0.000337</td>\n",
       "      <td>0.999900</td>\n",
       "    </tr>\n",
       "    <tr>\n",
       "      <th>max</th>\n",
       "      <td>8.283431e+08</td>\n",
       "      <td>73.000000</td>\n",
       "      <td>5.000000</td>\n",
       "      <td>56.000000</td>\n",
       "      <td>6.000000</td>\n",
       "      <td>6.000000</td>\n",
       "      <td>6.000000</td>\n",
       "      <td>34516.000000</td>\n",
       "      <td>2517.000000</td>\n",
       "      <td>34516.000000</td>\n",
       "      <td>3.397000</td>\n",
       "      <td>18484.000000</td>\n",
       "      <td>139.000000</td>\n",
       "      <td>3.714000</td>\n",
       "      <td>0.999000</td>\n",
       "      <td>0.999580</td>\n",
       "      <td>0.999990</td>\n",
       "    </tr>\n",
       "  </tbody>\n",
       "</table>\n",
       "</div>"
      ],
      "text/plain": [
       "          CLIENTNUM  Customer_Age  Dependent_count  Months_on_book  \\\n",
       "count  1.012700e+04  10127.000000     10127.000000    10127.000000   \n",
       "mean   7.391776e+08     46.325960         2.346203       35.928409   \n",
       "std    3.690378e+07      8.016814         1.298908        7.986416   \n",
       "min    7.080821e+08     26.000000         0.000000       13.000000   \n",
       "25%    7.130368e+08     41.000000         1.000000       31.000000   \n",
       "50%    7.179264e+08     46.000000         2.000000       36.000000   \n",
       "75%    7.731435e+08     52.000000         3.000000       40.000000   \n",
       "max    8.283431e+08     73.000000         5.000000       56.000000   \n",
       "\n",
       "       Total_Relationship_Count  Months_Inactive_12_mon  \\\n",
       "count              10127.000000            10127.000000   \n",
       "mean                   3.812580                2.341167   \n",
       "std                    1.554408                1.010622   \n",
       "min                    1.000000                0.000000   \n",
       "25%                    3.000000                2.000000   \n",
       "50%                    4.000000                2.000000   \n",
       "75%                    5.000000                3.000000   \n",
       "max                    6.000000                6.000000   \n",
       "\n",
       "       Contacts_Count_12_mon  Credit_Limit  Total_Revolving_Bal  \\\n",
       "count           10127.000000  10127.000000         10127.000000   \n",
       "mean                2.455317   8631.953698          1162.814061   \n",
       "std                 1.106225   9088.776650           814.987335   \n",
       "min                 0.000000   1438.300000             0.000000   \n",
       "25%                 2.000000   2555.000000           359.000000   \n",
       "50%                 2.000000   4549.000000          1276.000000   \n",
       "75%                 3.000000  11067.500000          1784.000000   \n",
       "max                 6.000000  34516.000000          2517.000000   \n",
       "\n",
       "       Avg_Open_To_Buy  Total_Amt_Chng_Q4_Q1  Total_Trans_Amt  Total_Trans_Ct  \\\n",
       "count     10127.000000          10127.000000     10127.000000    10127.000000   \n",
       "mean       7469.139637              0.759941      4404.086304       64.858695   \n",
       "std        9090.685324              0.219207      3397.129254       23.472570   \n",
       "min           3.000000              0.000000       510.000000       10.000000   \n",
       "25%        1324.500000              0.631000      2155.500000       45.000000   \n",
       "50%        3474.000000              0.736000      3899.000000       67.000000   \n",
       "75%        9859.000000              0.859000      4741.000000       81.000000   \n",
       "max       34516.000000              3.397000     18484.000000      139.000000   \n",
       "\n",
       "       Total_Ct_Chng_Q4_Q1  Avg_Utilization_Ratio  \\\n",
       "count         10127.000000           10127.000000   \n",
       "mean              0.712222               0.274894   \n",
       "std               0.238086               0.275691   \n",
       "min               0.000000               0.000000   \n",
       "25%               0.582000               0.023000   \n",
       "50%               0.702000               0.176000   \n",
       "75%               0.818000               0.503000   \n",
       "max               3.714000               0.999000   \n",
       "\n",
       "       Naive_Bayes_Classifier_Attrition_Flag_Card_Category_Contacts_Count_12_mon_Dependent_count_Education_Level_Months_Inactive_12_mon_1  \\\n",
       "count                                       10127.000000                                                                                    \n",
       "mean                                            0.159997                                                                                    \n",
       "std                                             0.365301                                                                                    \n",
       "min                                             0.000008                                                                                    \n",
       "25%                                             0.000099                                                                                    \n",
       "50%                                             0.000181                                                                                    \n",
       "75%                                             0.000337                                                                                    \n",
       "max                                             0.999580                                                                                    \n",
       "\n",
       "       Naive_Bayes_Classifier_Attrition_Flag_Card_Category_Contacts_Count_12_mon_Dependent_count_Education_Level_Months_Inactive_12_mon_2  \n",
       "count                                       10127.000000                                                                                   \n",
       "mean                                            0.840003                                                                                   \n",
       "std                                             0.365301                                                                                   \n",
       "min                                             0.000420                                                                                   \n",
       "25%                                             0.999660                                                                                   \n",
       "50%                                             0.999820                                                                                   \n",
       "75%                                             0.999900                                                                                   \n",
       "max                                             0.999990                                                                                   "
      ]
     },
     "execution_count": 10,
     "metadata": {},
     "output_type": "execute_result"
    }
   ],
   "source": [
    "df.describe()"
   ]
  },
  {
   "cell_type": "markdown",
   "id": "ed664101",
   "metadata": {
    "cell_id": "00019-0cd5ee49-4276-47b8-93ea-fd80b14f68b8",
    "deepnote_cell_type": "markdown",
    "papermill": {
     "duration": 0.036162,
     "end_time": "2022-01-13T21:32:20.813887",
     "exception": false,
     "start_time": "2022-01-13T21:32:20.777725",
     "status": "completed"
    },
    "tags": []
   },
   "source": [
    "The display shows the `count` `min`, `max`, `std` and `mean` and the `median`along with the lower and upper quartiles. With this we can get an excellent view into the range of the dataset. By knowing the percentile points (25th, 50th, and 75th) aswell as the `min`and `max`we can find outliers and [skewness](https://en.wikipedia.org/wiki/Skewness) of the distribution of the data for each column. \n",
    "\n",
    "By looking at the columns we can see that "
   ]
  },
  {
   "cell_type": "markdown",
   "id": "4b681a88",
   "metadata": {
    "cell_id": "00008-000715f2-0d18-41e4-9fc1-93903513d5d2",
    "deepnote_cell_type": "markdown",
    "papermill": {
     "duration": 0.036078,
     "end_time": "2022-01-13T21:32:20.886385",
     "exception": false,
     "start_time": "2022-01-13T21:32:20.850307",
     "status": "completed"
    },
    "tags": []
   },
   "source": [
    "### Data cleaning\n"
   ]
  },
  {
   "cell_type": "markdown",
   "id": "02750e8f",
   "metadata": {
    "cell_id": "00012-36c010fc-002a-431b-9dda-aedd86cb6168",
    "deepnote_cell_type": "markdown",
    "papermill": {
     "duration": 0.036447,
     "end_time": "2022-01-13T21:32:20.959742",
     "exception": false,
     "start_time": "2022-01-13T21:32:20.923295",
     "status": "completed"
    },
    "tags": []
   },
   "source": [
    "Now lets take a look at what columns are of most intresting and what columns we can remove.\n"
   ]
  },
  {
   "cell_type": "markdown",
   "id": "85483827",
   "metadata": {
    "cell_id": "00012-25123abe-5635-4c66-b54e-74d6840e0eb7",
    "deepnote_cell_type": "markdown",
    "deepnote_to_be_reexecuted": false,
    "execution_millis": 380,
    "execution_start": 1641822010423,
    "papermill": {
     "duration": 0.036124,
     "end_time": "2022-01-13T21:32:21.031880",
     "exception": false,
     "start_time": "2022-01-13T21:32:20.995756",
     "status": "completed"
    },
    "source_hash": "5c0c620d",
    "tags": []
   },
   "source": [
    "**Remove uncessary columns**"
   ]
  },
  {
   "cell_type": "markdown",
   "id": "192acea5",
   "metadata": {
    "cell_id": "00026-bd1a04a2-cec2-4f50-8a64-21f540c768fb",
    "deepnote_cell_type": "markdown",
    "papermill": {
     "duration": 0.036005,
     "end_time": "2022-01-13T21:32:21.104866",
     "exception": false,
     "start_time": "2022-01-13T21:32:21.068861",
     "status": "completed"
    },
    "tags": []
   },
   "source": [
    "We got the information from the dataset source that the last two columns where to be deleted. "
   ]
  },
  {
   "cell_type": "code",
   "execution_count": 11,
   "id": "d1dbcd15",
   "metadata": {
    "cell_id": "00014-717cc0b6-cfe8-4c64-9308-fa7efe48d031",
    "deepnote_cell_type": "code",
    "deepnote_to_be_reexecuted": false,
    "execution": {
     "iopub.execute_input": "2022-01-13T21:32:21.182104Z",
     "iopub.status.busy": "2022-01-13T21:32:21.181433Z",
     "iopub.status.idle": "2022-01-13T21:32:21.186975Z",
     "shell.execute_reply": "2022-01-13T21:32:21.187527Z",
     "shell.execute_reply.started": "2022-01-13T21:29:26.298429Z"
    },
    "execution_millis": 2,
    "execution_start": 1642088360402,
    "papermill": {
     "duration": 0.045948,
     "end_time": "2022-01-13T21:32:21.187703",
     "exception": false,
     "start_time": "2022-01-13T21:32:21.141755",
     "status": "completed"
    },
    "source_hash": "23997a91",
    "tags": []
   },
   "outputs": [],
   "source": [
    "df.drop(['Naive_Bayes_Classifier_Attrition_Flag_Card_Category_Contacts_Count_12_mon_Dependent_count_Education_Level_Months_Inactive_12_mon_1',\n",
    "          'Naive_Bayes_Classifier_Attrition_Flag_Card_Category_Contacts_Count_12_mon_Dependent_count_Education_Level_Months_Inactive_12_mon_2',\n",
    "          ], axis = 1, inplace = True)"
   ]
  },
  {
   "cell_type": "markdown",
   "id": "1292bbaa",
   "metadata": {
    "cell_id": "00025-26edf66b-355f-455c-b5c7-533c47ae2adf",
    "deepnote_cell_type": "markdown",
    "papermill": {
     "duration": 0.036492,
     "end_time": "2022-01-13T21:32:21.261601",
     "exception": false,
     "start_time": "2022-01-13T21:32:21.225109",
     "status": "completed"
    },
    "tags": []
   },
   "source": [
    "**Rename columns**"
   ]
  },
  {
   "cell_type": "markdown",
   "id": "df379863",
   "metadata": {
    "cell_id": "00008-59d2bb36-07a0-4c7f-827c-396e9677fbc8",
    "deepnote_cell_type": "markdown",
    "papermill": {
     "duration": 0.035865,
     "end_time": "2022-01-13T21:32:21.334077",
     "exception": false,
     "start_time": "2022-01-13T21:32:21.298212",
     "status": "completed"
    },
    "tags": []
   },
   "source": [
    "Now lets see if we can rename some colums to make it short and easier to understand."
   ]
  },
  {
   "cell_type": "code",
   "execution_count": 12,
   "id": "ed5eccf4",
   "metadata": {
    "cell_id": "00004-2f3901d2-67ca-4aa2-a7fa-afd300f92656",
    "deepnote_cell_type": "code",
    "deepnote_to_be_reexecuted": false,
    "execution": {
     "iopub.execute_input": "2022-01-13T21:32:21.410266Z",
     "iopub.status.busy": "2022-01-13T21:32:21.409654Z",
     "iopub.status.idle": "2022-01-13T21:32:21.434523Z",
     "shell.execute_reply": "2022-01-13T21:32:21.434019Z",
     "shell.execute_reply.started": "2022-01-13T21:29:26.891796Z"
    },
    "execution_millis": 100,
    "execution_start": 1642088395770,
    "papermill": {
     "duration": 0.064124,
     "end_time": "2022-01-13T21:32:21.434691",
     "exception": false,
     "start_time": "2022-01-13T21:32:21.370567",
     "status": "completed"
    },
    "source_hash": "1e05cbe2",
    "tags": []
   },
   "outputs": [
    {
     "data": {
      "text/html": [
       "<div>\n",
       "<style scoped>\n",
       "    .dataframe tbody tr th:only-of-type {\n",
       "        vertical-align: middle;\n",
       "    }\n",
       "\n",
       "    .dataframe tbody tr th {\n",
       "        vertical-align: top;\n",
       "    }\n",
       "\n",
       "    .dataframe thead th {\n",
       "        text-align: right;\n",
       "    }\n",
       "</style>\n",
       "<table border=\"1\" class=\"dataframe\">\n",
       "  <thead>\n",
       "    <tr style=\"text-align: right;\">\n",
       "      <th></th>\n",
       "      <th>CLIENTNUM</th>\n",
       "      <th>Status</th>\n",
       "      <th>Age</th>\n",
       "      <th>Gender</th>\n",
       "      <th>Dependent_count</th>\n",
       "      <th>Education</th>\n",
       "      <th>Marital_Status</th>\n",
       "      <th>Income_Category</th>\n",
       "      <th>Card_Category</th>\n",
       "      <th>Months_on_book</th>\n",
       "      <th>...</th>\n",
       "      <th>Months_Inactive_12_mon</th>\n",
       "      <th>Contacts_Count_12_mon</th>\n",
       "      <th>Credit_Limit</th>\n",
       "      <th>Total_Revolving_Bal</th>\n",
       "      <th>Avg_Open_To_Buy</th>\n",
       "      <th>Total_Amt_Chng_Q4_Q1</th>\n",
       "      <th>Total_Trans_Amt</th>\n",
       "      <th>Total_Trans_Ct</th>\n",
       "      <th>Total_Ct_Chng_Q4_Q1</th>\n",
       "      <th>Avg_Utilization_Ratio</th>\n",
       "    </tr>\n",
       "  </thead>\n",
       "  <tbody>\n",
       "    <tr>\n",
       "      <th>0</th>\n",
       "      <td>768805383</td>\n",
       "      <td>Existing Customer</td>\n",
       "      <td>45</td>\n",
       "      <td>M</td>\n",
       "      <td>3</td>\n",
       "      <td>High School</td>\n",
       "      <td>Married</td>\n",
       "      <td>$60K - $80K</td>\n",
       "      <td>Blue</td>\n",
       "      <td>39</td>\n",
       "      <td>...</td>\n",
       "      <td>1</td>\n",
       "      <td>3</td>\n",
       "      <td>12691.0</td>\n",
       "      <td>777</td>\n",
       "      <td>11914.0</td>\n",
       "      <td>1.335</td>\n",
       "      <td>1144</td>\n",
       "      <td>42</td>\n",
       "      <td>1.625</td>\n",
       "      <td>0.061</td>\n",
       "    </tr>\n",
       "    <tr>\n",
       "      <th>1</th>\n",
       "      <td>818770008</td>\n",
       "      <td>Existing Customer</td>\n",
       "      <td>49</td>\n",
       "      <td>F</td>\n",
       "      <td>5</td>\n",
       "      <td>Graduate</td>\n",
       "      <td>Single</td>\n",
       "      <td>Less than $40K</td>\n",
       "      <td>Blue</td>\n",
       "      <td>44</td>\n",
       "      <td>...</td>\n",
       "      <td>1</td>\n",
       "      <td>2</td>\n",
       "      <td>8256.0</td>\n",
       "      <td>864</td>\n",
       "      <td>7392.0</td>\n",
       "      <td>1.541</td>\n",
       "      <td>1291</td>\n",
       "      <td>33</td>\n",
       "      <td>3.714</td>\n",
       "      <td>0.105</td>\n",
       "    </tr>\n",
       "    <tr>\n",
       "      <th>2</th>\n",
       "      <td>713982108</td>\n",
       "      <td>Existing Customer</td>\n",
       "      <td>51</td>\n",
       "      <td>M</td>\n",
       "      <td>3</td>\n",
       "      <td>Graduate</td>\n",
       "      <td>Married</td>\n",
       "      <td>$80K - $120K</td>\n",
       "      <td>Blue</td>\n",
       "      <td>36</td>\n",
       "      <td>...</td>\n",
       "      <td>1</td>\n",
       "      <td>0</td>\n",
       "      <td>3418.0</td>\n",
       "      <td>0</td>\n",
       "      <td>3418.0</td>\n",
       "      <td>2.594</td>\n",
       "      <td>1887</td>\n",
       "      <td>20</td>\n",
       "      <td>2.333</td>\n",
       "      <td>0.000</td>\n",
       "    </tr>\n",
       "    <tr>\n",
       "      <th>3</th>\n",
       "      <td>769911858</td>\n",
       "      <td>Existing Customer</td>\n",
       "      <td>40</td>\n",
       "      <td>F</td>\n",
       "      <td>4</td>\n",
       "      <td>High School</td>\n",
       "      <td>Unknown</td>\n",
       "      <td>Less than $40K</td>\n",
       "      <td>Blue</td>\n",
       "      <td>34</td>\n",
       "      <td>...</td>\n",
       "      <td>4</td>\n",
       "      <td>1</td>\n",
       "      <td>3313.0</td>\n",
       "      <td>2517</td>\n",
       "      <td>796.0</td>\n",
       "      <td>1.405</td>\n",
       "      <td>1171</td>\n",
       "      <td>20</td>\n",
       "      <td>2.333</td>\n",
       "      <td>0.760</td>\n",
       "    </tr>\n",
       "    <tr>\n",
       "      <th>4</th>\n",
       "      <td>709106358</td>\n",
       "      <td>Existing Customer</td>\n",
       "      <td>40</td>\n",
       "      <td>M</td>\n",
       "      <td>3</td>\n",
       "      <td>Uneducated</td>\n",
       "      <td>Married</td>\n",
       "      <td>$60K - $80K</td>\n",
       "      <td>Blue</td>\n",
       "      <td>21</td>\n",
       "      <td>...</td>\n",
       "      <td>1</td>\n",
       "      <td>0</td>\n",
       "      <td>4716.0</td>\n",
       "      <td>0</td>\n",
       "      <td>4716.0</td>\n",
       "      <td>2.175</td>\n",
       "      <td>816</td>\n",
       "      <td>28</td>\n",
       "      <td>2.500</td>\n",
       "      <td>0.000</td>\n",
       "    </tr>\n",
       "  </tbody>\n",
       "</table>\n",
       "<p>5 rows × 21 columns</p>\n",
       "</div>"
      ],
      "text/plain": [
       "   CLIENTNUM             Status  Age Gender  Dependent_count    Education  \\\n",
       "0  768805383  Existing Customer   45      M                3  High School   \n",
       "1  818770008  Existing Customer   49      F                5     Graduate   \n",
       "2  713982108  Existing Customer   51      M                3     Graduate   \n",
       "3  769911858  Existing Customer   40      F                4  High School   \n",
       "4  709106358  Existing Customer   40      M                3   Uneducated   \n",
       "\n",
       "  Marital_Status Income_Category Card_Category  Months_on_book  ...  \\\n",
       "0        Married     $60K - $80K          Blue              39  ...   \n",
       "1         Single  Less than $40K          Blue              44  ...   \n",
       "2        Married    $80K - $120K          Blue              36  ...   \n",
       "3        Unknown  Less than $40K          Blue              34  ...   \n",
       "4        Married     $60K - $80K          Blue              21  ...   \n",
       "\n",
       "   Months_Inactive_12_mon  Contacts_Count_12_mon  Credit_Limit  \\\n",
       "0                       1                      3       12691.0   \n",
       "1                       1                      2        8256.0   \n",
       "2                       1                      0        3418.0   \n",
       "3                       4                      1        3313.0   \n",
       "4                       1                      0        4716.0   \n",
       "\n",
       "   Total_Revolving_Bal  Avg_Open_To_Buy  Total_Amt_Chng_Q4_Q1  \\\n",
       "0                  777          11914.0                 1.335   \n",
       "1                  864           7392.0                 1.541   \n",
       "2                    0           3418.0                 2.594   \n",
       "3                 2517            796.0                 1.405   \n",
       "4                    0           4716.0                 2.175   \n",
       "\n",
       "   Total_Trans_Amt  Total_Trans_Ct  Total_Ct_Chng_Q4_Q1  Avg_Utilization_Ratio  \n",
       "0             1144              42                1.625                  0.061  \n",
       "1             1291              33                3.714                  0.105  \n",
       "2             1887              20                2.333                  0.000  \n",
       "3             1171              20                2.333                  0.760  \n",
       "4              816              28                2.500                  0.000  \n",
       "\n",
       "[5 rows x 21 columns]"
      ]
     },
     "execution_count": 12,
     "metadata": {},
     "output_type": "execute_result"
    }
   ],
   "source": [
    "df.rename(columns = {'Attrition_Flag': 'Status','Customer_Age': 'Age', 'Education_Level' : 'Education'}, inplace = True)\n",
    "df.head()"
   ]
  },
  {
   "cell_type": "code",
   "execution_count": 13,
   "id": "51609222",
   "metadata": {
    "cell_id": "f34e487c-8aca-42c4-aada-a26b34ca9478",
    "deepnote_cell_type": "code",
    "deepnote_output_heights": [
     251.4375
    ],
    "deepnote_to_be_reexecuted": false,
    "execution": {
     "iopub.execute_input": "2022-01-13T21:32:21.512647Z",
     "iopub.status.busy": "2022-01-13T21:32:21.512045Z",
     "iopub.status.idle": "2022-01-13T21:32:21.565038Z",
     "shell.execute_reply": "2022-01-13T21:32:21.564506Z",
     "shell.execute_reply.started": "2022-01-13T21:29:27.083127Z"
    },
    "execution_millis": 222,
    "execution_start": 1642088432801,
    "papermill": {
     "duration": 0.093205,
     "end_time": "2022-01-13T21:32:21.565183",
     "exception": false,
     "start_time": "2022-01-13T21:32:21.471978",
     "status": "completed"
    },
    "source_hash": "1a8831a",
    "tags": []
   },
   "outputs": [
    {
     "data": {
      "text/plain": [
       "CLIENTNUM  Status             Age  Gender  Dependent_count  Education      Marital_Status  Income_Category  Card_Category  Months_on_book  Total_Relationship_Count  Months_Inactive_12_mon  Contacts_Count_12_mon  Credit_Limit  Total_Revolving_Bal  Avg_Open_To_Buy  Total_Amt_Chng_Q4_Q1  Total_Trans_Amt  Total_Trans_Ct  Total_Ct_Chng_Q4_Q1  Avg_Utilization_Ratio\n",
       "708082083  Existing Customer  45   F       3                High School    Married         Less than $40K   Blue           36              4                         3                       3                      3544.0        1661                 1883.0           0.831                 15149            111             0.734                0.469                    1\n",
       "721448283  Attrited Customer  39   F       1                Graduate       Single          Less than $40K   Blue           26              3                         3                       1                      1876.0        1536                 340.0            0.712                 2579             47              0.469                0.819                    1\n",
       "721434483  Existing Customer  54   M       3                Graduate       Married         $80K - $120K     Blue           46              4                         3                       2                      2798.0        1256                 1542.0           1.132                 2631             55              0.774                0.449                    1\n",
       "721437333  Attrited Customer  46   M       2                Graduate       Single          $80K - $120K     Blue           36              2                         2                       2                      5054.0        2517                 2537.0           0.605                 2027             39              0.393                0.498                    1\n",
       "721438233  Existing Customer  39   M       2                Post-Graduate  Single          $40K - $60K      Blue           31              6                         3                       3                      3297.0        1761                 1536.0           0.879                 15580            120             0.739                0.534                    1\n",
       "                                                                                                                                                                                                                                                                                                                                                                            ..\n",
       "714542058  Existing Customer  53   M       1                Graduate       Unknown         $60K - $80K      Silver         44              5                         2                       1                      26365.0       680                  25685.0          0.498                 3411             68              0.789                0.026                    1\n",
       "714543633  Attrited Customer  45   F       3                Unknown        Single          Less than $40K   Blue           36              1                         2                       5                      7500.0        0                    7500.0           0.576                 8024             78              0.696                0.000                    1\n",
       "714544908  Attrited Customer  56   M       4                Graduate       Divorced        $60K - $80K      Blue           36              6                         3                       3                      6224.0        0                    6224.0           0.920                 8979             68              0.581                0.000                    1\n",
       "714547458  Existing Customer  65   M       0                Graduate       Married         $40K - $60K      Blue           56              3                         3                       2                      2297.0        0                    2297.0           0.511                 1941             51              0.417                0.000                    1\n",
       "828343083  Existing Customer  43   F       4                High School    Unknown         Less than $40K   Blue           39              3                         3                       3                      2786.0        1793                 993.0            0.803                 3646             68              0.659                0.644                    1\n",
       "Length: 10127, dtype: int64"
      ]
     },
     "execution_count": 13,
     "metadata": {},
     "output_type": "execute_result"
    }
   ],
   "source": [
    "df.value_counts()"
   ]
  },
  {
   "cell_type": "markdown",
   "id": "d2a58ac9",
   "metadata": {
    "cell_id": "00029-fd95873c-d501-4561-8782-3e7cb98a853a",
    "deepnote_cell_type": "markdown",
    "papermill": {
     "duration": 0.038909,
     "end_time": "2022-01-13T21:32:21.642439",
     "exception": false,
     "start_time": "2022-01-13T21:32:21.603530",
     "status": "completed"
    },
    "tags": []
   },
   "source": [
    "# Explaratory data analysis"
   ]
  },
  {
   "cell_type": "markdown",
   "id": "d8d214e4",
   "metadata": {
    "cell_id": "00030-6f586950-67cc-4e2d-9bae-919ef07574b5",
    "deepnote_cell_type": "markdown",
    "papermill": {
     "duration": 0.037711,
     "end_time": "2022-01-13T21:32:21.718326",
     "exception": false,
     "start_time": "2022-01-13T21:32:21.680615",
     "status": "completed"
    },
    "tags": []
   },
   "source": [
    "**Lets explore the data and provid insightful analysis by answering some relevant questions:**\n",
    "\n",
    "- [ ] Does the credit card utilization ratio lower in churning customers?\n",
    "- [ ] Are there any significant diffrenceses between the `Attrited Customer` vs `Existing Customer` for the categorial features for the dataset?"
   ]
  },
  {
   "cell_type": "markdown",
   "id": "bedc488b",
   "metadata": {
    "cell_id": "d9095c36-1b17-4da2-b72f-f23bee8b6695",
    "deepnote_cell_type": "markdown",
    "papermill": {
     "duration": 0.038252,
     "end_time": "2022-01-13T21:32:21.795878",
     "exception": false,
     "start_time": "2022-01-13T21:32:21.757626",
     "status": "completed"
    },
    "tags": []
   },
   "source": [
    "## Visualizing the data\n",
    "\n",
    "Data visualization is the graphic representation of data. It involves producing images that communicate relationships among the represented data to viewers. Visualizing data is an essential part of data analysis and machine learning. We'll use Python libraries Matplotlib and Seaborn to learn and apply some popular data visualization techniques. We'll use the words chart, plot, and graph interchangeably in this tutorial.\n",
    "\n",
    "To begin, let's install and import the libraries. We'll use the matplotlib.pyplot module for basic plots like line & bar charts. It is often imported with the alias plt. We'll use the seaborn module for more advanced plots. It is commonly imported with the alias sns."
   ]
  },
  {
   "cell_type": "markdown",
   "id": "21ec8d55",
   "metadata": {
    "cell_id": "00031-aac3d712-bf41-4013-a188-d8ba8d5d072a",
    "deepnote_cell_type": "markdown",
    "papermill": {
     "duration": 0.037985,
     "end_time": "2022-01-13T21:32:21.873205",
     "exception": false,
     "start_time": "2022-01-13T21:32:21.835220",
     "status": "completed"
    },
    "tags": []
   },
   "source": [
    "Now, lets explore the dataset to understand the customers that churned "
   ]
  },
  {
   "cell_type": "code",
   "execution_count": 14,
   "id": "589bf1bb",
   "metadata": {
    "cell_id": "7370474d-a617-493c-ac49-9472e937edde",
    "deepnote_cell_type": "code",
    "execution": {
     "iopub.execute_input": "2022-01-13T21:32:21.954174Z",
     "iopub.status.busy": "2022-01-13T21:32:21.953154Z",
     "iopub.status.idle": "2022-01-13T21:32:31.397561Z",
     "shell.execute_reply": "2022-01-13T21:32:31.396843Z",
     "shell.execute_reply.started": "2022-01-13T21:29:28.347557Z"
    },
    "papermill": {
     "duration": 9.485976,
     "end_time": "2022-01-13T21:32:31.397713",
     "exception": false,
     "start_time": "2022-01-13T21:32:21.911737",
     "status": "completed"
    },
    "tags": []
   },
   "outputs": [
    {
     "name": "stdout",
     "output_type": "stream",
     "text": [
      "\u001b[33mWARNING: Running pip as the 'root' user can result in broken permissions and conflicting behaviour with the system package manager. It is recommended to use a virtual environment instead: https://pip.pypa.io/warnings/venv\u001b[0m\r\n"
     ]
    }
   ],
   "source": [
    "!pip install matplotlib seaborn --upgrade --quiet"
   ]
  },
  {
   "cell_type": "code",
   "execution_count": 15,
   "id": "927c850b",
   "metadata": {
    "cell_id": "98741562-eaf0-4401-bd3b-cf62fef12859",
    "deepnote_cell_type": "code",
    "deepnote_to_be_reexecuted": false,
    "execution": {
     "iopub.execute_input": "2022-01-13T21:32:31.485674Z",
     "iopub.status.busy": "2022-01-13T21:32:31.484574Z",
     "iopub.status.idle": "2022-01-13T21:32:32.526337Z",
     "shell.execute_reply": "2022-01-13T21:32:32.525120Z",
     "shell.execute_reply.started": "2022-01-13T21:29:37.656888Z"
    },
    "execution_millis": 4,
    "execution_start": 1642089653150,
    "papermill": {
     "duration": 1.088431,
     "end_time": "2022-01-13T21:32:32.526539",
     "exception": false,
     "start_time": "2022-01-13T21:32:31.438108",
     "status": "completed"
    },
    "source_hash": "2e968f5",
    "tags": []
   },
   "outputs": [],
   "source": [
    "# Lets import the libraries we will be using in the analysis \n",
    "import matplotlib\n",
    "import matplotlib.pyplot as plt\n",
    "import seaborn as sns\n",
    "%matplotlib inline"
   ]
  },
  {
   "cell_type": "code",
   "execution_count": 16,
   "id": "a3e367f4",
   "metadata": {
    "cell_id": "893c441f-78b3-49ba-a0a3-f00d3b50fe82",
    "deepnote_cell_type": "code",
    "deepnote_to_be_reexecuted": false,
    "execution": {
     "iopub.execute_input": "2022-01-13T21:32:32.610776Z",
     "iopub.status.busy": "2022-01-13T21:32:32.609861Z",
     "iopub.status.idle": "2022-01-13T21:32:32.612394Z",
     "shell.execute_reply": "2022-01-13T21:32:32.611904Z",
     "shell.execute_reply.started": "2022-01-13T21:29:37.664444Z"
    },
    "execution_millis": 3,
    "execution_start": 1642089654741,
    "papermill": {
     "duration": 0.047146,
     "end_time": "2022-01-13T21:32:32.612575",
     "exception": false,
     "start_time": "2022-01-13T21:32:32.565429",
     "status": "completed"
    },
    "source_hash": "bd25c7ce",
    "tags": []
   },
   "outputs": [],
   "source": [
    "# Set the global plotting parameters\n",
    "sns.set_style('white')\n",
    "matplotlib.rcParams['font.size'] = 22\n",
    "matplotlib.rcParams['font.weight'] = 'bold'\n",
    "matplotlib.rcParams['figure.facecolor'] = '#00000000'"
   ]
  },
  {
   "cell_type": "markdown",
   "id": "19f0ae11",
   "metadata": {
    "cell_id": "e879b5a2-38f0-43de-8bd0-9aca19a34d22",
    "deepnote_cell_type": "markdown",
    "papermill": {
     "duration": 0.0391,
     "end_time": "2022-01-13T21:32:32.690266",
     "exception": false,
     "start_time": "2022-01-13T21:32:32.651166",
     "status": "completed"
    },
    "tags": []
   },
   "source": [
    "Now lets explore the data about customers. \n",
    "We can start with finding out how many have left and how many are still existing customers:"
   ]
  },
  {
   "cell_type": "code",
   "execution_count": 17,
   "id": "3fb57e44",
   "metadata": {
    "cell_id": "98edd1df-b4fa-408f-af4c-78b97bb93294",
    "deepnote_cell_type": "code",
    "deepnote_output_heights": [
     59.5625
    ],
    "deepnote_to_be_reexecuted": false,
    "execution": {
     "iopub.execute_input": "2022-01-13T21:32:32.774635Z",
     "iopub.status.busy": "2022-01-13T21:32:32.773931Z",
     "iopub.status.idle": "2022-01-13T21:32:32.782433Z",
     "shell.execute_reply": "2022-01-13T21:32:32.783058Z",
     "shell.execute_reply.started": "2022-01-13T21:29:37.678699Z"
    },
    "execution_millis": 2,
    "execution_start": 1642090042639,
    "papermill": {
     "duration": 0.051631,
     "end_time": "2022-01-13T21:32:32.783225",
     "exception": false,
     "start_time": "2022-01-13T21:32:32.731594",
     "status": "completed"
    },
    "source_hash": "3b4d2973",
    "tags": []
   },
   "outputs": [
    {
     "data": {
      "text/plain": [
       "Existing Customer    8500\n",
       "Attrited Customer    1627\n",
       "Name: Status, dtype: int64"
      ]
     },
     "execution_count": 17,
     "metadata": {},
     "output_type": "execute_result"
    }
   ],
   "source": [
    "df['Status'].value_counts()"
   ]
  },
  {
   "cell_type": "code",
   "execution_count": null,
   "id": "c772f285",
   "metadata": {
    "cell_id": "9679c6a9-43f1-49de-adf4-d7519d8d92d6",
    "deepnote_cell_type": "code",
    "papermill": {
     "duration": 0.038463,
     "end_time": "2022-01-13T21:32:32.860574",
     "exception": false,
     "start_time": "2022-01-13T21:32:32.822111",
     "status": "completed"
    },
    "tags": []
   },
   "outputs": [],
   "source": []
  },
  {
   "cell_type": "markdown",
   "id": "4934464d",
   "metadata": {
    "cell_id": "a1aa96bc-32a0-4b13-918d-aa19b7aaacca",
    "deepnote_cell_type": "markdown",
    "papermill": {
     "duration": 0.040082,
     "end_time": "2022-01-13T21:32:32.939763",
     "exception": false,
     "start_time": "2022-01-13T21:32:32.899681",
     "status": "completed"
    },
    "tags": []
   },
   "source": [
    "How many % of the total customers have left?"
   ]
  },
  {
   "cell_type": "code",
   "execution_count": 18,
   "id": "50d20c16",
   "metadata": {
    "cell_id": "07d2c4b8-fcf5-485c-a331-19ee5d203faa",
    "deepnote_cell_type": "code",
    "deepnote_output_heights": [
     59.5625
    ],
    "deepnote_to_be_reexecuted": false,
    "execution": {
     "iopub.execute_input": "2022-01-13T21:32:33.021202Z",
     "iopub.status.busy": "2022-01-13T21:32:33.020558Z",
     "iopub.status.idle": "2022-01-13T21:32:33.031179Z",
     "shell.execute_reply": "2022-01-13T21:32:33.030632Z",
     "shell.execute_reply.started": "2022-01-13T21:29:49.042284Z"
    },
    "execution_millis": 0,
    "execution_start": 1642090126559,
    "papermill": {
     "duration": 0.052209,
     "end_time": "2022-01-13T21:32:33.031331",
     "exception": false,
     "start_time": "2022-01-13T21:32:32.979122",
     "status": "completed"
    },
    "source_hash": "47657f27",
    "tags": []
   },
   "outputs": [
    {
     "data": {
      "text/plain": [
       "Existing Customer    83.9%\n",
       "Attrited Customer    16.1%\n",
       "Name: Status, dtype: object"
      ]
     },
     "execution_count": 18,
     "metadata": {},
     "output_type": "execute_result"
    }
   ],
   "source": [
    "\n",
    "df['Status'].value_counts(normalize=True).mul(100).round(1).astype(str) + '%' "
   ]
  },
  {
   "cell_type": "code",
   "execution_count": null,
   "id": "51d967e5",
   "metadata": {
    "cell_id": "365b0281-9a19-43ca-a05c-5c1254836e2c",
    "deepnote_cell_type": "code",
    "papermill": {
     "duration": 0.038841,
     "end_time": "2022-01-13T21:32:33.109648",
     "exception": false,
     "start_time": "2022-01-13T21:32:33.070807",
     "status": "completed"
    },
    "tags": []
   },
   "outputs": [],
   "source": []
  },
  {
   "cell_type": "markdown",
   "id": "75486d7e",
   "metadata": {
    "created_in_deepnote_cell": true,
    "deepnote_cell_type": "markdown",
    "papermill": {
     "duration": 0.039153,
     "end_time": "2022-01-13T21:32:33.187990",
     "exception": false,
     "start_time": "2022-01-13T21:32:33.148837",
     "status": "completed"
    },
    "tags": []
   },
   "source": [
    "<a style='text-decoration:none;line-height:16px;display:flex;color:#5B5B62;padding:10px;justify-content:end;' href='https://deepnote.com?utm_source=created-in-deepnote-cell&projectId=005a5f2a-4c80-4e29-8e21-1febcd15fda6' target=\"_blank\">\n",
    "<img alt='Created in deepnote.com' style='display:inline;max-height:16px;margin:0px;margin-right:7.5px;' src='data:image/svg+xml;base64,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' > </img>\n",
    "Created in <span style='font-weight:600;margin-left:4px;'>Deepnote</span></a>"
   ]
  },
  {
   "cell_type": "code",
   "execution_count": null,
   "id": "743c618f",
   "metadata": {
    "papermill": {
     "duration": 0.038795,
     "end_time": "2022-01-13T21:32:33.266061",
     "exception": false,
     "start_time": "2022-01-13T21:32:33.227266",
     "status": "completed"
    },
    "tags": []
   },
   "outputs": [],
   "source": []
  },
  {
   "cell_type": "code",
   "execution_count": null,
   "id": "d2f73325",
   "metadata": {
    "papermill": {
     "duration": 0.038917,
     "end_time": "2022-01-13T21:32:33.344339",
     "exception": false,
     "start_time": "2022-01-13T21:32:33.305422",
     "status": "completed"
    },
    "tags": []
   },
   "outputs": [],
   "source": []
  }
 ],
 "metadata": {
  "kernelspec": {
   "display_name": "Python 3",
   "language": "python",
   "name": "python3"
  },
  "language_info": {
   "codemirror_mode": {
    "name": "ipython",
    "version": 3
   },
   "file_extension": ".py",
   "mimetype": "text/x-python",
   "name": "python",
   "nbconvert_exporter": "python",
   "pygments_lexer": "ipython3",
   "version": "3.7.12"
  },
  "papermill": {
   "default_parameters": {},
   "duration": 37.058554,
   "end_time": "2022-01-13T21:32:34.094719",
   "environment_variables": {},
   "exception": null,
   "input_path": "__notebook__.ipynb",
   "output_path": "__notebook__.ipynb",
   "parameters": {},
   "start_time": "2022-01-13T21:31:57.036165",
   "version": "2.3.3"
  }
 },
 "nbformat": 4,
 "nbformat_minor": 5
}
