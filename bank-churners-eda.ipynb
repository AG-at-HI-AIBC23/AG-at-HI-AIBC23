{
 "cells": [
  {
   "cell_type": "markdown",
   "id": "2963b50f",
   "metadata": {
    "cell_id": "00001-a9449a66-dd70-4c63-bb5c-6173ff0c44db",
    "deepnote_cell_type": "markdown",
    "papermill": {
     "duration": 0.026109,
     "end_time": "2022-01-13T22:13:15.935852",
     "exception": false,
     "start_time": "2022-01-13T22:13:15.909743",
     "status": "completed"
    },
    "tags": []
   },
   "source": [
    "# Exploratory data anaysis of a bank customer churn datset\n",
    "\n",
    "The dataset can be found on [here](https://www.kaggle.com/sakshigoyal7/credit-card-customers) on kaggle.com."
   ]
  },
  {
   "cell_type": "markdown",
   "id": "6af92344",
   "metadata": {
    "cell_id": "00001-183b5f73-ccb7-44c4-9195-d483e4a664ad",
    "deepnote_cell_type": "markdown",
    "papermill": {
     "duration": 0.024657,
     "end_time": "2022-01-13T22:13:15.986065",
     "exception": false,
     "start_time": "2022-01-13T22:13:15.961408",
     "status": "completed"
    },
    "tags": []
   },
   "source": [
    "## Intoduction\n",
    "\n",
    "In this notebook contains a data analysis on the credit card customers data to draw infrences on the churning customers behaviors before they cancel thier credit cards. Then random forrest algorithm and a neural network will be used to classify the customers as Current customers (Customers who did not cancel there credit cards) and churning customers (Customers who cancelled their credit cards). The random forrest will be used to analyse the importance of each feature and the fie least important features will be removed before trining neural network. A datasampling technique using SMOTE was introduced in version three to reduce gape between two classes"
   ]
  },
  {
   "cell_type": "markdown",
   "id": "5ff5565b",
   "metadata": {
    "cell_id": "00002-e8664fe0-c99d-4da6-b134-9c4438fbd725",
    "deepnote_cell_type": "markdown",
    "papermill": {
     "duration": 0.02578,
     "end_time": "2022-01-13T22:13:16.041358",
     "exception": false,
     "start_time": "2022-01-13T22:13:16.015578",
     "status": "completed"
    },
    "tags": []
   },
   "source": [
    "## What is churn and why does it matter? \n",
    "Customer churn means \n",
    "\n",
    "Customers leaving the product or service provided by companies is commun do to a multitude of factors. Understanding this metric for companies is vital as it provides better insights in \n",
    "\n",
    "For the bank, understanding why the custermers are churning is very important as the competition of new fintechs is growing. A growing churn can mean a couple of things:\n",
    "- The economic implication of a growing churn rate will result in lowering the customer lifetime value, witch may lead to lower revenue and profit margins. It may also lead to a lower market share due to loss of customers to compatitors. One other economic aspect related to churn is the term customer accuazision cost, with is the avrege cost for accuaring a new customer. The norm is that its more expensive to accuire a new customer then trying to keed an existing customer. \n",
    "- If customers are leaving it may also indicate that some things are not working with the product or service. Those type of signals in the organisation are important to understand and aress as soon as possible to keep the current customers and gain new ones. \n",
    "\n",
    "This is why it's one of the most important metrics to understand and monitor for companies.\n",
    "\n",
    "\n"
   ]
  },
  {
   "cell_type": "markdown",
   "id": "50eeeb61",
   "metadata": {
    "cell_id": "e6452003-8fb4-411e-9341-583d8b4d7254",
    "deepnote_cell_type": "markdown",
    "papermill": {
     "duration": 0.024861,
     "end_time": "2022-01-13T22:13:16.092006",
     "exception": false,
     "start_time": "2022-01-13T22:13:16.067145",
     "status": "completed"
    },
    "tags": []
   },
   "source": [
    "## Problem Statement\n",
    " To understand churn it would be benefitial to set some relevant metrics when mesuring it. One central metic to mesure is time, ie. how long has the client used the products/services? The relevant metrics for mesuring churn may vary depending on the industry and type of customer interaction that is important for the company. For most companies it may be revenue, conversion rates or some other similar metric, but for some, like facebook / instagram, it may be engagement and time spend on the platform. "
   ]
  },
  {
   "cell_type": "markdown",
   "id": "2f9a4a89",
   "metadata": {
    "cell_id": "fdc18c2a-7f9c-4058-a2f2-4e799cf87262",
    "deepnote_cell_type": "markdown",
    "papermill": {
     "duration": 0.025003,
     "end_time": "2022-01-13T22:13:16.143077",
     "exception": false,
     "start_time": "2022-01-13T22:13:16.118074",
     "status": "completed"
    },
    "tags": []
   },
   "source": [
    "**The information given about the dataset is:** <br> \n",
    "_A business manager of a consumer credit card portfolio is facing the problem of customer attrition. They want to analyze the data to find out the reason behind this and leverage the same to predict customers who are likely to drop off._"
   ]
  },
  {
   "cell_type": "markdown",
   "id": "b1793f52",
   "metadata": {
    "cell_id": "bf898990-ab60-43ba-acab-d9b4ba772b7b",
    "deepnote_cell_type": "markdown",
    "papermill": {
     "duration": 0.025509,
     "end_time": "2022-01-13T22:13:16.194455",
     "exception": false,
     "start_time": "2022-01-13T22:13:16.168946",
     "status": "completed"
    },
    "tags": []
   },
   "source": [
    "\n",
    "## The objectives \n",
    "> **The objective of this analysis is to understand what customers are at risk for churning and visualize that in a clear and consise way.**"
   ]
  },
  {
   "cell_type": "markdown",
   "id": "1dca533a",
   "metadata": {
    "cell_id": "33afc7ba-8813-46bc-8cbb-acff32f4e201",
    "deepnote_cell_type": "markdown",
    "papermill": {
     "duration": 0.024689,
     "end_time": "2022-01-13T22:13:16.244040",
     "exception": false,
     "start_time": "2022-01-13T22:13:16.219351",
     "status": "completed"
    },
    "tags": []
   },
   "source": [
    "\n",
    "**The scope:**\n",
    "\n",
    "**The scope is to do an data exploratory analysis to understand what circumstances effect the churnrate. If possible we will explore proposals for improving the churnrate or what data and questions would be relevant to explore further to lower the churnrate.**\n",
    "\n",
    "\n",
    "_We are going to cover the following steps:_\n",
    "- Download the dataset\n",
    "- Import/install libraries\n",
    "- Import the data into a pandas dataframe\n",
    "- Get to know more about the dataset\n",
    "- Clean the dataset \n",
    "- Do an exploratory data analysis\n",
    "- What insigts can we gain from the analysis? \n",
    "- What is the impact of the insights? Action items to explore. \n",
    "- Further exploration and questions\n",
    "\n",
    "References\n",
    "\n",
    "\n",
    "Let's get started."
   ]
  },
  {
   "cell_type": "markdown",
   "id": "dd166ffa",
   "metadata": {
    "cell_id": "76368bc9-9cc6-4174-894f-61355fc15b50",
    "deepnote_cell_type": "markdown",
    "papermill": {
     "duration": 0.024663,
     "end_time": "2022-01-13T22:13:16.293540",
     "exception": false,
     "start_time": "2022-01-13T22:13:16.268877",
     "status": "completed"
    },
    "tags": []
   },
   "source": []
  },
  {
   "cell_type": "markdown",
   "id": "f22944a2",
   "metadata": {
    "cell_id": "00000-5e1b8b05-31d8-489d-9781-25ade7848180",
    "deepnote_cell_type": "markdown",
    "papermill": {
     "duration": 0.02457,
     "end_time": "2022-01-13T22:13:16.342905",
     "exception": false,
     "start_time": "2022-01-13T22:13:16.318335",
     "status": "completed"
    },
    "tags": []
   },
   "source": [
    "### Questions in the data analysis:\n",
    "- Does the credit card utilization ratio lower in churning customers?\n",
    "- What is the influence of the income category on people with a cetrain martial status for leaving the service?\n",
    "- What card category customers needs most attention from the service providers?"
   ]
  },
  {
   "cell_type": "markdown",
   "id": "9361507e",
   "metadata": {
    "cell_id": "00002-a9d599cd-212f-4a96-b026-158c29a181f2",
    "deepnote_cell_type": "markdown",
    "papermill": {
     "duration": 0.02748,
     "end_time": "2022-01-13T22:13:16.395220",
     "exception": false,
     "start_time": "2022-01-13T22:13:16.367740",
     "status": "completed"
    },
    "tags": []
   },
   "source": [
    "First lets import the libraries we will be using. Today we will use pandas for the exploratory data analysis. For visualizing the data we will be using matplotlib, seaborn and plotly "
   ]
  },
  {
   "cell_type": "code",
   "execution_count": 1,
   "id": "903c1467",
   "metadata": {
    "execution": {
     "iopub.execute_input": "2022-01-13T22:13:16.470191Z",
     "iopub.status.busy": "2022-01-13T22:13:16.469239Z",
     "iopub.status.idle": "2022-01-13T22:13:25.554618Z",
     "shell.execute_reply": "2022-01-13T22:13:25.554004Z",
     "shell.execute_reply.started": "2022-01-13T21:27:55.554933Z"
    },
    "jupyter": {
     "source_hidden": true
    },
    "papermill": {
     "duration": 9.130776,
     "end_time": "2022-01-13T22:13:25.554817",
     "exception": false,
     "start_time": "2022-01-13T22:13:16.424041",
     "status": "completed"
    },
    "tags": []
   },
   "outputs": [
    {
     "name": "stdout",
     "output_type": "stream",
     "text": [
      "\u001b[33mWARNING: Running pip as the 'root' user can result in broken permissions and conflicting behaviour with the system package manager. It is recommended to use a virtual environment instead: https://pip.pypa.io/warnings/venv\u001b[0m\r\n"
     ]
    }
   ],
   "source": [
    "# Remove the # and run the cell if the you get an error message.\n",
    "!pip install opendatasets -q \n"
   ]
  },
  {
   "cell_type": "code",
   "execution_count": 2,
   "id": "7729211b",
   "metadata": {
    "cell_id": "00002-931eb779-6f36-4e87-bf86-5cd1792e0895",
    "deepnote_cell_type": "code",
    "deepnote_to_be_reexecuted": false,
    "execution": {
     "iopub.execute_input": "2022-01-13T22:13:25.612002Z",
     "iopub.status.busy": "2022-01-13T22:13:25.611369Z",
     "iopub.status.idle": "2022-01-13T22:13:25.613684Z",
     "shell.execute_reply": "2022-01-13T22:13:25.613236Z",
     "shell.execute_reply.started": "2022-01-13T21:28:06.283397Z"
    },
    "execution_millis": 0,
    "execution_start": 1642088230671,
    "jupyter": {
     "source_hidden": true
    },
    "papermill": {
     "duration": 0.032531,
     "end_time": "2022-01-13T22:13:25.613819",
     "exception": false,
     "start_time": "2022-01-13T22:13:25.581288",
     "status": "completed"
    },
    "source_hash": "5ddda620",
    "tags": []
   },
   "outputs": [],
   "source": [
    "# For importing and analysing the data\n",
    "#import opendatasets as od #used for downloading the dataset from kaggle\n",
    "import pandas as pd #used for the main exploratory data analysis and working with the dataset\n",
    "import numpy as np #used for numerical and statistical analysis\n"
   ]
  },
  {
   "cell_type": "markdown",
   "id": "c321c50d",
   "metadata": {
    "cell_id": "00004-8355fdbb-4869-47f7-b469-6a2b90e888c0",
    "deepnote_cell_type": "markdown",
    "papermill": {
     "duration": 0.025136,
     "end_time": "2022-01-13T22:13:25.664422",
     "exception": false,
     "start_time": "2022-01-13T22:13:25.639286",
     "status": "completed"
    },
    "tags": []
   },
   "source": [
    "### Downloading the data"
   ]
  },
  {
   "cell_type": "code",
   "execution_count": 3,
   "id": "9da0de78",
   "metadata": {
    "cell_id": "00005-e5fab03c-ab66-4e76-9c64-fb2c93e091b5",
    "deepnote_cell_type": "code",
    "deepnote_to_be_reexecuted": false,
    "execution": {
     "iopub.execute_input": "2022-01-13T22:13:25.719980Z",
     "iopub.status.busy": "2022-01-13T22:13:25.719368Z",
     "iopub.status.idle": "2022-01-13T22:13:25.722116Z",
     "shell.execute_reply": "2022-01-13T22:13:25.721627Z",
     "shell.execute_reply.started": "2022-01-13T21:28:06.322852Z"
    },
    "execution_millis": 5,
    "execution_start": 1642088233049,
    "jupyter": {
     "source_hidden": true
    },
    "papermill": {
     "duration": 0.032612,
     "end_time": "2022-01-13T22:13:25.722250",
     "exception": false,
     "start_time": "2022-01-13T22:13:25.689638",
     "status": "completed"
    },
    "source_hash": "5b99e171",
    "tags": []
   },
   "outputs": [],
   "source": [
    "#dataset_url = 'https://www.kaggle.com/sakshigoyal7/credit-card-customers'\n",
    "#od.download(dataset_url)"
   ]
  },
  {
   "cell_type": "markdown",
   "id": "ef919482",
   "metadata": {
    "cell_id": "00006-5a508c9f-6585-451a-90f7-3e148d9aa92c",
    "deepnote_cell_type": "markdown",
    "papermill": {
     "duration": 0.024871,
     "end_time": "2022-01-13T22:13:25.773596",
     "exception": false,
     "start_time": "2022-01-13T22:13:25.748725",
     "status": "completed"
    },
    "tags": []
   },
   "source": [
    "### Importing the data into a pandas dataframe"
   ]
  },
  {
   "cell_type": "code",
   "execution_count": 4,
   "id": "a7a5d7ad",
   "metadata": {
    "cell_id": "00005-df5341a5-66f7-45f2-8d55-80791529b5af",
    "deepnote_cell_type": "code",
    "deepnote_to_be_reexecuted": false,
    "execution": {
     "iopub.execute_input": "2022-01-13T22:13:25.829334Z",
     "iopub.status.busy": "2022-01-13T22:13:25.828739Z",
     "iopub.status.idle": "2022-01-13T22:13:25.906650Z",
     "shell.execute_reply": "2022-01-13T22:13:25.907135Z",
     "shell.execute_reply.started": "2022-01-13T21:29:19.448389Z"
    },
    "execution_millis": 2,
    "execution_start": 1642088237114,
    "jupyter": {
     "source_hidden": true
    },
    "papermill": {
     "duration": 0.108662,
     "end_time": "2022-01-13T22:13:25.907320",
     "exception": false,
     "start_time": "2022-01-13T22:13:25.798658",
     "status": "completed"
    },
    "source_hash": "6c0db04a",
    "tags": []
   },
   "outputs": [],
   "source": [
    "# First, lets import the data into a dataframe by reding the csv file we downloaded\n",
    "credit_data = pd.read_csv('../input/credit-card-customers/BankChurners.csv')\n",
    "\n",
    "\n",
    "#Second, lets make a copy of the dataframe (df) to use for the initial exploration of the data\n",
    "df = credit_data.copy()"
   ]
  },
  {
   "cell_type": "code",
   "execution_count": 5,
   "id": "47050ded",
   "metadata": {
    "cell_id": "00009-68ef4490-00e9-441c-9553-51af114a3e72",
    "deepnote_cell_type": "code",
    "deepnote_output_heights": [
     33.1875
    ],
    "deepnote_to_be_reexecuted": false,
    "execution": {
     "iopub.execute_input": "2022-01-13T22:13:25.961255Z",
     "iopub.status.busy": "2022-01-13T22:13:25.960651Z",
     "iopub.status.idle": "2022-01-13T22:13:25.965719Z",
     "shell.execute_reply": "2022-01-13T22:13:25.966471Z",
     "shell.execute_reply.started": "2022-01-13T21:29:19.623987Z"
    },
    "execution_millis": 6,
    "execution_start": 1642088237239,
    "jupyter": {
     "source_hidden": true
    },
    "papermill": {
     "duration": 0.033941,
     "end_time": "2022-01-13T22:13:25.966749",
     "exception": false,
     "start_time": "2022-01-13T22:13:25.932808",
     "status": "completed"
    },
    "source_hash": "7605fbbd",
    "tags": []
   },
   "outputs": [
    {
     "name": "stdout",
     "output_type": "stream",
     "text": [
      "Data has 10127 samples or rows and 23 features or columns.\n"
     ]
    }
   ],
   "source": [
    "# Lets look at the shape of the dataset\n",
    "\n",
    "print('Data has {} samples or rows and {} features or columns.'.format(df.shape[0], df.shape[1]))"
   ]
  },
  {
   "cell_type": "markdown",
   "id": "abc3d2d5",
   "metadata": {
    "cell_id": "00009-bad14216-6f2c-4506-a6a2-d6dcac2e6407",
    "deepnote_cell_type": "markdown",
    "papermill": {
     "duration": 0.025626,
     "end_time": "2022-01-13T22:13:26.019131",
     "exception": false,
     "start_time": "2022-01-13T22:13:25.993505",
     "status": "completed"
    },
    "tags": []
   },
   "source": [
    "**Now lets see the first 10 rows of the dataset:**"
   ]
  },
  {
   "cell_type": "code",
   "execution_count": 6,
   "id": "e37748ff",
   "metadata": {
    "cell_id": "00008-2f8992e7-2532-4460-bdd9-34f38626fbaf",
    "deepnote_cell_type": "code",
    "deepnote_output_heights": [
     353.1875
    ],
    "deepnote_to_be_reexecuted": false,
    "execution": {
     "iopub.execute_input": "2022-01-13T22:13:26.073372Z",
     "iopub.status.busy": "2022-01-13T22:13:26.072776Z",
     "iopub.status.idle": "2022-01-13T22:13:26.111104Z",
     "shell.execute_reply": "2022-01-13T22:13:26.110626Z",
     "shell.execute_reply.started": "2022-01-13T21:29:21.068421Z"
    },
    "execution_millis": 165,
    "execution_start": 1642088242894,
    "jupyter": {
     "source_hidden": true
    },
    "papermill": {
     "duration": 0.066029,
     "end_time": "2022-01-13T22:13:26.111243",
     "exception": false,
     "start_time": "2022-01-13T22:13:26.045214",
     "status": "completed"
    },
    "source_hash": "f30f989a",
    "tags": []
   },
   "outputs": [
    {
     "data": {
      "text/html": [
       "<div>\n",
       "<style scoped>\n",
       "    .dataframe tbody tr th:only-of-type {\n",
       "        vertical-align: middle;\n",
       "    }\n",
       "\n",
       "    .dataframe tbody tr th {\n",
       "        vertical-align: top;\n",
       "    }\n",
       "\n",
       "    .dataframe thead th {\n",
       "        text-align: right;\n",
       "    }\n",
       "</style>\n",
       "<table border=\"1\" class=\"dataframe\">\n",
       "  <thead>\n",
       "    <tr style=\"text-align: right;\">\n",
       "      <th></th>\n",
       "      <th>CLIENTNUM</th>\n",
       "      <th>Attrition_Flag</th>\n",
       "      <th>Customer_Age</th>\n",
       "      <th>Gender</th>\n",
       "      <th>Dependent_count</th>\n",
       "      <th>Education_Level</th>\n",
       "      <th>Marital_Status</th>\n",
       "      <th>Income_Category</th>\n",
       "      <th>Card_Category</th>\n",
       "      <th>Months_on_book</th>\n",
       "      <th>...</th>\n",
       "      <th>Credit_Limit</th>\n",
       "      <th>Total_Revolving_Bal</th>\n",
       "      <th>Avg_Open_To_Buy</th>\n",
       "      <th>Total_Amt_Chng_Q4_Q1</th>\n",
       "      <th>Total_Trans_Amt</th>\n",
       "      <th>Total_Trans_Ct</th>\n",
       "      <th>Total_Ct_Chng_Q4_Q1</th>\n",
       "      <th>Avg_Utilization_Ratio</th>\n",
       "      <th>Naive_Bayes_Classifier_Attrition_Flag_Card_Category_Contacts_Count_12_mon_Dependent_count_Education_Level_Months_Inactive_12_mon_1</th>\n",
       "      <th>Naive_Bayes_Classifier_Attrition_Flag_Card_Category_Contacts_Count_12_mon_Dependent_count_Education_Level_Months_Inactive_12_mon_2</th>\n",
       "    </tr>\n",
       "  </thead>\n",
       "  <tbody>\n",
       "    <tr>\n",
       "      <th>0</th>\n",
       "      <td>768805383</td>\n",
       "      <td>Existing Customer</td>\n",
       "      <td>45</td>\n",
       "      <td>M</td>\n",
       "      <td>3</td>\n",
       "      <td>High School</td>\n",
       "      <td>Married</td>\n",
       "      <td>$60K - $80K</td>\n",
       "      <td>Blue</td>\n",
       "      <td>39</td>\n",
       "      <td>...</td>\n",
       "      <td>12691.0</td>\n",
       "      <td>777</td>\n",
       "      <td>11914.0</td>\n",
       "      <td>1.335</td>\n",
       "      <td>1144</td>\n",
       "      <td>42</td>\n",
       "      <td>1.625</td>\n",
       "      <td>0.061</td>\n",
       "      <td>0.000093</td>\n",
       "      <td>0.99991</td>\n",
       "    </tr>\n",
       "    <tr>\n",
       "      <th>1</th>\n",
       "      <td>818770008</td>\n",
       "      <td>Existing Customer</td>\n",
       "      <td>49</td>\n",
       "      <td>F</td>\n",
       "      <td>5</td>\n",
       "      <td>Graduate</td>\n",
       "      <td>Single</td>\n",
       "      <td>Less than $40K</td>\n",
       "      <td>Blue</td>\n",
       "      <td>44</td>\n",
       "      <td>...</td>\n",
       "      <td>8256.0</td>\n",
       "      <td>864</td>\n",
       "      <td>7392.0</td>\n",
       "      <td>1.541</td>\n",
       "      <td>1291</td>\n",
       "      <td>33</td>\n",
       "      <td>3.714</td>\n",
       "      <td>0.105</td>\n",
       "      <td>0.000057</td>\n",
       "      <td>0.99994</td>\n",
       "    </tr>\n",
       "    <tr>\n",
       "      <th>2</th>\n",
       "      <td>713982108</td>\n",
       "      <td>Existing Customer</td>\n",
       "      <td>51</td>\n",
       "      <td>M</td>\n",
       "      <td>3</td>\n",
       "      <td>Graduate</td>\n",
       "      <td>Married</td>\n",
       "      <td>$80K - $120K</td>\n",
       "      <td>Blue</td>\n",
       "      <td>36</td>\n",
       "      <td>...</td>\n",
       "      <td>3418.0</td>\n",
       "      <td>0</td>\n",
       "      <td>3418.0</td>\n",
       "      <td>2.594</td>\n",
       "      <td>1887</td>\n",
       "      <td>20</td>\n",
       "      <td>2.333</td>\n",
       "      <td>0.000</td>\n",
       "      <td>0.000021</td>\n",
       "      <td>0.99998</td>\n",
       "    </tr>\n",
       "    <tr>\n",
       "      <th>3</th>\n",
       "      <td>769911858</td>\n",
       "      <td>Existing Customer</td>\n",
       "      <td>40</td>\n",
       "      <td>F</td>\n",
       "      <td>4</td>\n",
       "      <td>High School</td>\n",
       "      <td>Unknown</td>\n",
       "      <td>Less than $40K</td>\n",
       "      <td>Blue</td>\n",
       "      <td>34</td>\n",
       "      <td>...</td>\n",
       "      <td>3313.0</td>\n",
       "      <td>2517</td>\n",
       "      <td>796.0</td>\n",
       "      <td>1.405</td>\n",
       "      <td>1171</td>\n",
       "      <td>20</td>\n",
       "      <td>2.333</td>\n",
       "      <td>0.760</td>\n",
       "      <td>0.000134</td>\n",
       "      <td>0.99987</td>\n",
       "    </tr>\n",
       "    <tr>\n",
       "      <th>4</th>\n",
       "      <td>709106358</td>\n",
       "      <td>Existing Customer</td>\n",
       "      <td>40</td>\n",
       "      <td>M</td>\n",
       "      <td>3</td>\n",
       "      <td>Uneducated</td>\n",
       "      <td>Married</td>\n",
       "      <td>$60K - $80K</td>\n",
       "      <td>Blue</td>\n",
       "      <td>21</td>\n",
       "      <td>...</td>\n",
       "      <td>4716.0</td>\n",
       "      <td>0</td>\n",
       "      <td>4716.0</td>\n",
       "      <td>2.175</td>\n",
       "      <td>816</td>\n",
       "      <td>28</td>\n",
       "      <td>2.500</td>\n",
       "      <td>0.000</td>\n",
       "      <td>0.000022</td>\n",
       "      <td>0.99998</td>\n",
       "    </tr>\n",
       "    <tr>\n",
       "      <th>5</th>\n",
       "      <td>713061558</td>\n",
       "      <td>Existing Customer</td>\n",
       "      <td>44</td>\n",
       "      <td>M</td>\n",
       "      <td>2</td>\n",
       "      <td>Graduate</td>\n",
       "      <td>Married</td>\n",
       "      <td>$40K - $60K</td>\n",
       "      <td>Blue</td>\n",
       "      <td>36</td>\n",
       "      <td>...</td>\n",
       "      <td>4010.0</td>\n",
       "      <td>1247</td>\n",
       "      <td>2763.0</td>\n",
       "      <td>1.376</td>\n",
       "      <td>1088</td>\n",
       "      <td>24</td>\n",
       "      <td>0.846</td>\n",
       "      <td>0.311</td>\n",
       "      <td>0.000055</td>\n",
       "      <td>0.99994</td>\n",
       "    </tr>\n",
       "    <tr>\n",
       "      <th>6</th>\n",
       "      <td>810347208</td>\n",
       "      <td>Existing Customer</td>\n",
       "      <td>51</td>\n",
       "      <td>M</td>\n",
       "      <td>4</td>\n",
       "      <td>Unknown</td>\n",
       "      <td>Married</td>\n",
       "      <td>$120K +</td>\n",
       "      <td>Gold</td>\n",
       "      <td>46</td>\n",
       "      <td>...</td>\n",
       "      <td>34516.0</td>\n",
       "      <td>2264</td>\n",
       "      <td>32252.0</td>\n",
       "      <td>1.975</td>\n",
       "      <td>1330</td>\n",
       "      <td>31</td>\n",
       "      <td>0.722</td>\n",
       "      <td>0.066</td>\n",
       "      <td>0.000123</td>\n",
       "      <td>0.99988</td>\n",
       "    </tr>\n",
       "    <tr>\n",
       "      <th>7</th>\n",
       "      <td>818906208</td>\n",
       "      <td>Existing Customer</td>\n",
       "      <td>32</td>\n",
       "      <td>M</td>\n",
       "      <td>0</td>\n",
       "      <td>High School</td>\n",
       "      <td>Unknown</td>\n",
       "      <td>$60K - $80K</td>\n",
       "      <td>Silver</td>\n",
       "      <td>27</td>\n",
       "      <td>...</td>\n",
       "      <td>29081.0</td>\n",
       "      <td>1396</td>\n",
       "      <td>27685.0</td>\n",
       "      <td>2.204</td>\n",
       "      <td>1538</td>\n",
       "      <td>36</td>\n",
       "      <td>0.714</td>\n",
       "      <td>0.048</td>\n",
       "      <td>0.000086</td>\n",
       "      <td>0.99991</td>\n",
       "    </tr>\n",
       "    <tr>\n",
       "      <th>8</th>\n",
       "      <td>710930508</td>\n",
       "      <td>Existing Customer</td>\n",
       "      <td>37</td>\n",
       "      <td>M</td>\n",
       "      <td>3</td>\n",
       "      <td>Uneducated</td>\n",
       "      <td>Single</td>\n",
       "      <td>$60K - $80K</td>\n",
       "      <td>Blue</td>\n",
       "      <td>36</td>\n",
       "      <td>...</td>\n",
       "      <td>22352.0</td>\n",
       "      <td>2517</td>\n",
       "      <td>19835.0</td>\n",
       "      <td>3.355</td>\n",
       "      <td>1350</td>\n",
       "      <td>24</td>\n",
       "      <td>1.182</td>\n",
       "      <td>0.113</td>\n",
       "      <td>0.000045</td>\n",
       "      <td>0.99996</td>\n",
       "    </tr>\n",
       "    <tr>\n",
       "      <th>9</th>\n",
       "      <td>719661558</td>\n",
       "      <td>Existing Customer</td>\n",
       "      <td>48</td>\n",
       "      <td>M</td>\n",
       "      <td>2</td>\n",
       "      <td>Graduate</td>\n",
       "      <td>Single</td>\n",
       "      <td>$80K - $120K</td>\n",
       "      <td>Blue</td>\n",
       "      <td>36</td>\n",
       "      <td>...</td>\n",
       "      <td>11656.0</td>\n",
       "      <td>1677</td>\n",
       "      <td>9979.0</td>\n",
       "      <td>1.524</td>\n",
       "      <td>1441</td>\n",
       "      <td>32</td>\n",
       "      <td>0.882</td>\n",
       "      <td>0.144</td>\n",
       "      <td>0.000303</td>\n",
       "      <td>0.99970</td>\n",
       "    </tr>\n",
       "  </tbody>\n",
       "</table>\n",
       "<p>10 rows × 23 columns</p>\n",
       "</div>"
      ],
      "text/plain": [
       "   CLIENTNUM     Attrition_Flag  Customer_Age Gender  Dependent_count  \\\n",
       "0  768805383  Existing Customer            45      M                3   \n",
       "1  818770008  Existing Customer            49      F                5   \n",
       "2  713982108  Existing Customer            51      M                3   \n",
       "3  769911858  Existing Customer            40      F                4   \n",
       "4  709106358  Existing Customer            40      M                3   \n",
       "5  713061558  Existing Customer            44      M                2   \n",
       "6  810347208  Existing Customer            51      M                4   \n",
       "7  818906208  Existing Customer            32      M                0   \n",
       "8  710930508  Existing Customer            37      M                3   \n",
       "9  719661558  Existing Customer            48      M                2   \n",
       "\n",
       "  Education_Level Marital_Status Income_Category Card_Category  \\\n",
       "0     High School        Married     $60K - $80K          Blue   \n",
       "1        Graduate         Single  Less than $40K          Blue   \n",
       "2        Graduate        Married    $80K - $120K          Blue   \n",
       "3     High School        Unknown  Less than $40K          Blue   \n",
       "4      Uneducated        Married     $60K - $80K          Blue   \n",
       "5        Graduate        Married     $40K - $60K          Blue   \n",
       "6         Unknown        Married         $120K +          Gold   \n",
       "7     High School        Unknown     $60K - $80K        Silver   \n",
       "8      Uneducated         Single     $60K - $80K          Blue   \n",
       "9        Graduate         Single    $80K - $120K          Blue   \n",
       "\n",
       "   Months_on_book  ...  Credit_Limit  Total_Revolving_Bal  Avg_Open_To_Buy  \\\n",
       "0              39  ...       12691.0                  777          11914.0   \n",
       "1              44  ...        8256.0                  864           7392.0   \n",
       "2              36  ...        3418.0                    0           3418.0   \n",
       "3              34  ...        3313.0                 2517            796.0   \n",
       "4              21  ...        4716.0                    0           4716.0   \n",
       "5              36  ...        4010.0                 1247           2763.0   \n",
       "6              46  ...       34516.0                 2264          32252.0   \n",
       "7              27  ...       29081.0                 1396          27685.0   \n",
       "8              36  ...       22352.0                 2517          19835.0   \n",
       "9              36  ...       11656.0                 1677           9979.0   \n",
       "\n",
       "   Total_Amt_Chng_Q4_Q1  Total_Trans_Amt  Total_Trans_Ct  Total_Ct_Chng_Q4_Q1  \\\n",
       "0                 1.335             1144              42                1.625   \n",
       "1                 1.541             1291              33                3.714   \n",
       "2                 2.594             1887              20                2.333   \n",
       "3                 1.405             1171              20                2.333   \n",
       "4                 2.175              816              28                2.500   \n",
       "5                 1.376             1088              24                0.846   \n",
       "6                 1.975             1330              31                0.722   \n",
       "7                 2.204             1538              36                0.714   \n",
       "8                 3.355             1350              24                1.182   \n",
       "9                 1.524             1441              32                0.882   \n",
       "\n",
       "   Avg_Utilization_Ratio  \\\n",
       "0                  0.061   \n",
       "1                  0.105   \n",
       "2                  0.000   \n",
       "3                  0.760   \n",
       "4                  0.000   \n",
       "5                  0.311   \n",
       "6                  0.066   \n",
       "7                  0.048   \n",
       "8                  0.113   \n",
       "9                  0.144   \n",
       "\n",
       "   Naive_Bayes_Classifier_Attrition_Flag_Card_Category_Contacts_Count_12_mon_Dependent_count_Education_Level_Months_Inactive_12_mon_1  \\\n",
       "0                                           0.000093                                                                                    \n",
       "1                                           0.000057                                                                                    \n",
       "2                                           0.000021                                                                                    \n",
       "3                                           0.000134                                                                                    \n",
       "4                                           0.000022                                                                                    \n",
       "5                                           0.000055                                                                                    \n",
       "6                                           0.000123                                                                                    \n",
       "7                                           0.000086                                                                                    \n",
       "8                                           0.000045                                                                                    \n",
       "9                                           0.000303                                                                                    \n",
       "\n",
       "   Naive_Bayes_Classifier_Attrition_Flag_Card_Category_Contacts_Count_12_mon_Dependent_count_Education_Level_Months_Inactive_12_mon_2  \n",
       "0                                            0.99991                                                                                   \n",
       "1                                            0.99994                                                                                   \n",
       "2                                            0.99998                                                                                   \n",
       "3                                            0.99987                                                                                   \n",
       "4                                            0.99998                                                                                   \n",
       "5                                            0.99994                                                                                   \n",
       "6                                            0.99988                                                                                   \n",
       "7                                            0.99991                                                                                   \n",
       "8                                            0.99996                                                                                   \n",
       "9                                            0.99970                                                                                   \n",
       "\n",
       "[10 rows x 23 columns]"
      ]
     },
     "execution_count": 6,
     "metadata": {},
     "output_type": "execute_result"
    }
   ],
   "source": [
    "df.head(10)"
   ]
  },
  {
   "cell_type": "code",
   "execution_count": 7,
   "id": "a0f0d796",
   "metadata": {
    "cell_id": "00011-391b06ac-509f-41fc-8779-ee2ced540c34",
    "deepnote_cell_type": "code",
    "deepnote_output_heights": [
     443.3125
    ],
    "deepnote_to_be_reexecuted": false,
    "execution": {
     "iopub.execute_input": "2022-01-13T22:13:26.170218Z",
     "iopub.status.busy": "2022-01-13T22:13:26.169538Z",
     "iopub.status.idle": "2022-01-13T22:13:26.173462Z",
     "shell.execute_reply": "2022-01-13T22:13:26.172986Z",
     "shell.execute_reply.started": "2022-01-13T21:29:22.122397Z"
    },
    "execution_millis": 17,
    "execution_start": 1642088243061,
    "jupyter": {
     "source_hidden": true
    },
    "papermill": {
     "duration": 0.035969,
     "end_time": "2022-01-13T22:13:26.173591",
     "exception": false,
     "start_time": "2022-01-13T22:13:26.137622",
     "status": "completed"
    },
    "source_hash": "1039a82",
    "tags": []
   },
   "outputs": [
    {
     "data": {
      "text/plain": [
       "['CLIENTNUM',\n",
       " 'Attrition_Flag',\n",
       " 'Customer_Age',\n",
       " 'Gender',\n",
       " 'Dependent_count',\n",
       " 'Education_Level',\n",
       " 'Marital_Status',\n",
       " 'Income_Category',\n",
       " 'Card_Category',\n",
       " 'Months_on_book',\n",
       " 'Total_Relationship_Count',\n",
       " 'Months_Inactive_12_mon',\n",
       " 'Contacts_Count_12_mon',\n",
       " 'Credit_Limit',\n",
       " 'Total_Revolving_Bal',\n",
       " 'Avg_Open_To_Buy',\n",
       " 'Total_Amt_Chng_Q4_Q1',\n",
       " 'Total_Trans_Amt',\n",
       " 'Total_Trans_Ct',\n",
       " 'Total_Ct_Chng_Q4_Q1',\n",
       " 'Avg_Utilization_Ratio',\n",
       " 'Naive_Bayes_Classifier_Attrition_Flag_Card_Category_Contacts_Count_12_mon_Dependent_count_Education_Level_Months_Inactive_12_mon_1',\n",
       " 'Naive_Bayes_Classifier_Attrition_Flag_Card_Category_Contacts_Count_12_mon_Dependent_count_Education_Level_Months_Inactive_12_mon_2']"
      ]
     },
     "execution_count": 7,
     "metadata": {},
     "output_type": "execute_result"
    }
   ],
   "source": [
    "list(df.columns)"
   ]
  },
  {
   "cell_type": "markdown",
   "id": "e83cff4a",
   "metadata": {
    "cell_id": "00011-508688d8-4fc4-404d-96e5-ae87d57cfa89",
    "deepnote_cell_type": "markdown",
    "papermill": {
     "duration": 0.026485,
     "end_time": "2022-01-13T22:13:26.228005",
     "exception": false,
     "start_time": "2022-01-13T22:13:26.201520",
     "status": "completed"
    },
    "tags": []
   },
   "source": [
    "At a quick glase we can allready see that the second columns, `Attrition_Flag` is the one feature that shows us the customers that left, and as such is proving a way to fint the churned customer. A second quick observation is that the colums `Marital_Status` has some `Unknows`values. Will will explore if that feature may have some relevans during the exploratory data analysis. "
   ]
  },
  {
   "cell_type": "markdown",
   "id": "51231c3d",
   "metadata": {
    "cell_id": "00011-f22cb899-9d94-44da-b95e-7a27bafbc866",
    "deepnote_cell_type": "markdown",
    "papermill": {
     "duration": 0.026089,
     "end_time": "2022-01-13T22:13:26.281047",
     "exception": false,
     "start_time": "2022-01-13T22:13:26.254958",
     "status": "completed"
    },
    "tags": []
   },
   "source": [
    "Lets get a bit more aquinted with the dataset the exploring more info about it with the following commands: `df.info()` and `df.describe()`"
   ]
  },
  {
   "cell_type": "code",
   "execution_count": 8,
   "id": "2d32e9d7",
   "metadata": {
    "cell_id": "00007-85c406fb-91fd-43da-b71c-fdb6d488ba70",
    "deepnote_cell_type": "code",
    "deepnote_to_be_reexecuted": false,
    "execution": {
     "iopub.execute_input": "2022-01-13T22:13:26.343737Z",
     "iopub.status.busy": "2022-01-13T22:13:26.343097Z",
     "iopub.status.idle": "2022-01-13T22:13:26.362881Z",
     "shell.execute_reply": "2022-01-13T22:13:26.363461Z",
     "shell.execute_reply.started": "2022-01-13T21:29:22.690536Z"
    },
    "execution_millis": 234,
    "execution_start": 1642088248787,
    "jupyter": {
     "source_hidden": true
    },
    "papermill": {
     "duration": 0.056159,
     "end_time": "2022-01-13T22:13:26.363628",
     "exception": false,
     "start_time": "2022-01-13T22:13:26.307469",
     "status": "completed"
    },
    "source_hash": "de1e323c",
    "tags": []
   },
   "outputs": [
    {
     "name": "stdout",
     "output_type": "stream",
     "text": [
      "<class 'pandas.core.frame.DataFrame'>\n",
      "RangeIndex: 10127 entries, 0 to 10126\n",
      "Data columns (total 23 columns):\n",
      " #   Column                                                                                                                              Non-Null Count  Dtype  \n",
      "---  ------                                                                                                                              --------------  -----  \n",
      " 0   CLIENTNUM                                                                                                                           10127 non-null  int64  \n",
      " 1   Attrition_Flag                                                                                                                      10127 non-null  object \n",
      " 2   Customer_Age                                                                                                                        10127 non-null  int64  \n",
      " 3   Gender                                                                                                                              10127 non-null  object \n",
      " 4   Dependent_count                                                                                                                     10127 non-null  int64  \n",
      " 5   Education_Level                                                                                                                     10127 non-null  object \n",
      " 6   Marital_Status                                                                                                                      10127 non-null  object \n",
      " 7   Income_Category                                                                                                                     10127 non-null  object \n",
      " 8   Card_Category                                                                                                                       10127 non-null  object \n",
      " 9   Months_on_book                                                                                                                      10127 non-null  int64  \n",
      " 10  Total_Relationship_Count                                                                                                            10127 non-null  int64  \n",
      " 11  Months_Inactive_12_mon                                                                                                              10127 non-null  int64  \n",
      " 12  Contacts_Count_12_mon                                                                                                               10127 non-null  int64  \n",
      " 13  Credit_Limit                                                                                                                        10127 non-null  float64\n",
      " 14  Total_Revolving_Bal                                                                                                                 10127 non-null  int64  \n",
      " 15  Avg_Open_To_Buy                                                                                                                     10127 non-null  float64\n",
      " 16  Total_Amt_Chng_Q4_Q1                                                                                                                10127 non-null  float64\n",
      " 17  Total_Trans_Amt                                                                                                                     10127 non-null  int64  \n",
      " 18  Total_Trans_Ct                                                                                                                      10127 non-null  int64  \n",
      " 19  Total_Ct_Chng_Q4_Q1                                                                                                                 10127 non-null  float64\n",
      " 20  Avg_Utilization_Ratio                                                                                                               10127 non-null  float64\n",
      " 21  Naive_Bayes_Classifier_Attrition_Flag_Card_Category_Contacts_Count_12_mon_Dependent_count_Education_Level_Months_Inactive_12_mon_1  10127 non-null  float64\n",
      " 22  Naive_Bayes_Classifier_Attrition_Flag_Card_Category_Contacts_Count_12_mon_Dependent_count_Education_Level_Months_Inactive_12_mon_2  10127 non-null  float64\n",
      "dtypes: float64(7), int64(10), object(6)\n",
      "memory usage: 1.8+ MB\n"
     ]
    }
   ],
   "source": [
    "df.info()"
   ]
  },
  {
   "cell_type": "markdown",
   "id": "2f7df945",
   "metadata": {
    "cell_id": "00015-7e2af85d-cef5-4856-92f1-c4bb54c0fbe8",
    "deepnote_cell_type": "markdown",
    "papermill": {
     "duration": 0.026646,
     "end_time": "2022-01-13T22:13:26.419778",
     "exception": false,
     "start_time": "2022-01-13T22:13:26.393132",
     "status": "completed"
    },
    "tags": []
   },
   "source": [
    "By the display we see the columns and the count of values for each column. We also see there is no `null` and `N/A`values in any of the collumns. It may still be some values that are unknown or wrong but those we will need to find in some other way. "
   ]
  },
  {
   "cell_type": "markdown",
   "id": "bcf88b59",
   "metadata": {
    "cell_id": "00018-5b93d131-78cb-432d-a032-b613f52e4e7d",
    "deepnote_cell_type": "markdown",
    "deepnote_output_heights": [
     328.1875
    ],
    "deepnote_to_be_reexecuted": false,
    "execution_millis": 287,
    "execution_start": 1641820751170,
    "papermill": {
     "duration": 0.027976,
     "end_time": "2022-01-13T22:13:26.475137",
     "exception": false,
     "start_time": "2022-01-13T22:13:26.447161",
     "status": "completed"
    },
    "source_hash": "f89729a4",
    "tags": []
   },
   "source": [
    "Now lets see what columns contain numerical values. We can display them by this command:"
   ]
  },
  {
   "cell_type": "code",
   "execution_count": 9,
   "id": "8d86c0d6",
   "metadata": {
    "cell_id": "00019-5d32b56b-9dfc-4bb6-94d3-a233b34dcfa2",
    "deepnote_cell_type": "code",
    "deepnote_output_heights": [
     328.1875
    ],
    "deepnote_to_be_reexecuted": false,
    "execution": {
     "iopub.execute_input": "2022-01-13T22:13:26.533821Z",
     "iopub.status.busy": "2022-01-13T22:13:26.533229Z",
     "iopub.status.idle": "2022-01-13T22:13:26.540395Z",
     "shell.execute_reply": "2022-01-13T22:13:26.540900Z",
     "shell.execute_reply.started": "2022-01-13T21:29:23.233501Z"
    },
    "execution_millis": 1,
    "execution_start": 1642088252465,
    "jupyter": {
     "source_hidden": true
    },
    "papermill": {
     "duration": 0.038564,
     "end_time": "2022-01-13T22:13:26.541080",
     "exception": false,
     "start_time": "2022-01-13T22:13:26.502516",
     "status": "completed"
    },
    "source_hash": "d6397e48",
    "tags": []
   },
   "outputs": [
    {
     "data": {
      "text/plain": [
       "['CLIENTNUM',\n",
       " 'Customer_Age',\n",
       " 'Dependent_count',\n",
       " 'Months_on_book',\n",
       " 'Total_Relationship_Count',\n",
       " 'Months_Inactive_12_mon',\n",
       " 'Contacts_Count_12_mon',\n",
       " 'Credit_Limit',\n",
       " 'Total_Revolving_Bal',\n",
       " 'Avg_Open_To_Buy',\n",
       " 'Total_Amt_Chng_Q4_Q1',\n",
       " 'Total_Trans_Amt',\n",
       " 'Total_Trans_Ct',\n",
       " 'Total_Ct_Chng_Q4_Q1',\n",
       " 'Avg_Utilization_Ratio',\n",
       " 'Naive_Bayes_Classifier_Attrition_Flag_Card_Category_Contacts_Count_12_mon_Dependent_count_Education_Level_Months_Inactive_12_mon_1',\n",
       " 'Naive_Bayes_Classifier_Attrition_Flag_Card_Category_Contacts_Count_12_mon_Dependent_count_Education_Level_Months_Inactive_12_mon_2']"
      ]
     },
     "execution_count": 9,
     "metadata": {},
     "output_type": "execute_result"
    }
   ],
   "source": [
    "df.select_dtypes(include=np.number).columns.tolist()"
   ]
  },
  {
   "cell_type": "markdown",
   "id": "22b13319",
   "metadata": {
    "cell_id": "00016-ad13ef41-9413-48a0-a5f5-4bce0c300f1f",
    "deepnote_cell_type": "markdown",
    "papermill": {
     "duration": 0.026944,
     "end_time": "2022-01-13T22:13:26.595556",
     "exception": false,
     "start_time": "2022-01-13T22:13:26.568612",
     "status": "completed"
    },
    "tags": []
   },
   "source": [
    "While looking at the numerical columns we can get the most common statistical data just by using the `df.describe()` command. "
   ]
  },
  {
   "cell_type": "code",
   "execution_count": 10,
   "id": "4e6df7ff",
   "metadata": {
    "cell_id": "00013-47750ced-fcf8-430e-91ff-316e66d35f2a",
    "deepnote_cell_type": "code",
    "deepnote_output_heights": [
     264
    ],
    "deepnote_to_be_reexecuted": false,
    "execution": {
     "iopub.execute_input": "2022-01-13T22:13:26.652573Z",
     "iopub.status.busy": "2022-01-13T22:13:26.652017Z",
     "iopub.status.idle": "2022-01-13T22:13:26.708088Z",
     "shell.execute_reply": "2022-01-13T22:13:26.707576Z",
     "shell.execute_reply.started": "2022-01-13T21:29:23.624509Z"
    },
    "execution_millis": 153,
    "execution_start": 1642088252923,
    "jupyter": {
     "source_hidden": true
    },
    "papermill": {
     "duration": 0.085469,
     "end_time": "2022-01-13T22:13:26.708223",
     "exception": false,
     "start_time": "2022-01-13T22:13:26.622754",
     "status": "completed"
    },
    "source_hash": "f88152d9",
    "tags": []
   },
   "outputs": [
    {
     "data": {
      "text/html": [
       "<div>\n",
       "<style scoped>\n",
       "    .dataframe tbody tr th:only-of-type {\n",
       "        vertical-align: middle;\n",
       "    }\n",
       "\n",
       "    .dataframe tbody tr th {\n",
       "        vertical-align: top;\n",
       "    }\n",
       "\n",
       "    .dataframe thead th {\n",
       "        text-align: right;\n",
       "    }\n",
       "</style>\n",
       "<table border=\"1\" class=\"dataframe\">\n",
       "  <thead>\n",
       "    <tr style=\"text-align: right;\">\n",
       "      <th></th>\n",
       "      <th>CLIENTNUM</th>\n",
       "      <th>Customer_Age</th>\n",
       "      <th>Dependent_count</th>\n",
       "      <th>Months_on_book</th>\n",
       "      <th>Total_Relationship_Count</th>\n",
       "      <th>Months_Inactive_12_mon</th>\n",
       "      <th>Contacts_Count_12_mon</th>\n",
       "      <th>Credit_Limit</th>\n",
       "      <th>Total_Revolving_Bal</th>\n",
       "      <th>Avg_Open_To_Buy</th>\n",
       "      <th>Total_Amt_Chng_Q4_Q1</th>\n",
       "      <th>Total_Trans_Amt</th>\n",
       "      <th>Total_Trans_Ct</th>\n",
       "      <th>Total_Ct_Chng_Q4_Q1</th>\n",
       "      <th>Avg_Utilization_Ratio</th>\n",
       "      <th>Naive_Bayes_Classifier_Attrition_Flag_Card_Category_Contacts_Count_12_mon_Dependent_count_Education_Level_Months_Inactive_12_mon_1</th>\n",
       "      <th>Naive_Bayes_Classifier_Attrition_Flag_Card_Category_Contacts_Count_12_mon_Dependent_count_Education_Level_Months_Inactive_12_mon_2</th>\n",
       "    </tr>\n",
       "  </thead>\n",
       "  <tbody>\n",
       "    <tr>\n",
       "      <th>count</th>\n",
       "      <td>1.012700e+04</td>\n",
       "      <td>10127.000000</td>\n",
       "      <td>10127.000000</td>\n",
       "      <td>10127.000000</td>\n",
       "      <td>10127.000000</td>\n",
       "      <td>10127.000000</td>\n",
       "      <td>10127.000000</td>\n",
       "      <td>10127.000000</td>\n",
       "      <td>10127.000000</td>\n",
       "      <td>10127.000000</td>\n",
       "      <td>10127.000000</td>\n",
       "      <td>10127.000000</td>\n",
       "      <td>10127.000000</td>\n",
       "      <td>10127.000000</td>\n",
       "      <td>10127.000000</td>\n",
       "      <td>10127.000000</td>\n",
       "      <td>10127.000000</td>\n",
       "    </tr>\n",
       "    <tr>\n",
       "      <th>mean</th>\n",
       "      <td>7.391776e+08</td>\n",
       "      <td>46.325960</td>\n",
       "      <td>2.346203</td>\n",
       "      <td>35.928409</td>\n",
       "      <td>3.812580</td>\n",
       "      <td>2.341167</td>\n",
       "      <td>2.455317</td>\n",
       "      <td>8631.953698</td>\n",
       "      <td>1162.814061</td>\n",
       "      <td>7469.139637</td>\n",
       "      <td>0.759941</td>\n",
       "      <td>4404.086304</td>\n",
       "      <td>64.858695</td>\n",
       "      <td>0.712222</td>\n",
       "      <td>0.274894</td>\n",
       "      <td>0.159997</td>\n",
       "      <td>0.840003</td>\n",
       "    </tr>\n",
       "    <tr>\n",
       "      <th>std</th>\n",
       "      <td>3.690378e+07</td>\n",
       "      <td>8.016814</td>\n",
       "      <td>1.298908</td>\n",
       "      <td>7.986416</td>\n",
       "      <td>1.554408</td>\n",
       "      <td>1.010622</td>\n",
       "      <td>1.106225</td>\n",
       "      <td>9088.776650</td>\n",
       "      <td>814.987335</td>\n",
       "      <td>9090.685324</td>\n",
       "      <td>0.219207</td>\n",
       "      <td>3397.129254</td>\n",
       "      <td>23.472570</td>\n",
       "      <td>0.238086</td>\n",
       "      <td>0.275691</td>\n",
       "      <td>0.365301</td>\n",
       "      <td>0.365301</td>\n",
       "    </tr>\n",
       "    <tr>\n",
       "      <th>min</th>\n",
       "      <td>7.080821e+08</td>\n",
       "      <td>26.000000</td>\n",
       "      <td>0.000000</td>\n",
       "      <td>13.000000</td>\n",
       "      <td>1.000000</td>\n",
       "      <td>0.000000</td>\n",
       "      <td>0.000000</td>\n",
       "      <td>1438.300000</td>\n",
       "      <td>0.000000</td>\n",
       "      <td>3.000000</td>\n",
       "      <td>0.000000</td>\n",
       "      <td>510.000000</td>\n",
       "      <td>10.000000</td>\n",
       "      <td>0.000000</td>\n",
       "      <td>0.000000</td>\n",
       "      <td>0.000008</td>\n",
       "      <td>0.000420</td>\n",
       "    </tr>\n",
       "    <tr>\n",
       "      <th>25%</th>\n",
       "      <td>7.130368e+08</td>\n",
       "      <td>41.000000</td>\n",
       "      <td>1.000000</td>\n",
       "      <td>31.000000</td>\n",
       "      <td>3.000000</td>\n",
       "      <td>2.000000</td>\n",
       "      <td>2.000000</td>\n",
       "      <td>2555.000000</td>\n",
       "      <td>359.000000</td>\n",
       "      <td>1324.500000</td>\n",
       "      <td>0.631000</td>\n",
       "      <td>2155.500000</td>\n",
       "      <td>45.000000</td>\n",
       "      <td>0.582000</td>\n",
       "      <td>0.023000</td>\n",
       "      <td>0.000099</td>\n",
       "      <td>0.999660</td>\n",
       "    </tr>\n",
       "    <tr>\n",
       "      <th>50%</th>\n",
       "      <td>7.179264e+08</td>\n",
       "      <td>46.000000</td>\n",
       "      <td>2.000000</td>\n",
       "      <td>36.000000</td>\n",
       "      <td>4.000000</td>\n",
       "      <td>2.000000</td>\n",
       "      <td>2.000000</td>\n",
       "      <td>4549.000000</td>\n",
       "      <td>1276.000000</td>\n",
       "      <td>3474.000000</td>\n",
       "      <td>0.736000</td>\n",
       "      <td>3899.000000</td>\n",
       "      <td>67.000000</td>\n",
       "      <td>0.702000</td>\n",
       "      <td>0.176000</td>\n",
       "      <td>0.000181</td>\n",
       "      <td>0.999820</td>\n",
       "    </tr>\n",
       "    <tr>\n",
       "      <th>75%</th>\n",
       "      <td>7.731435e+08</td>\n",
       "      <td>52.000000</td>\n",
       "      <td>3.000000</td>\n",
       "      <td>40.000000</td>\n",
       "      <td>5.000000</td>\n",
       "      <td>3.000000</td>\n",
       "      <td>3.000000</td>\n",
       "      <td>11067.500000</td>\n",
       "      <td>1784.000000</td>\n",
       "      <td>9859.000000</td>\n",
       "      <td>0.859000</td>\n",
       "      <td>4741.000000</td>\n",
       "      <td>81.000000</td>\n",
       "      <td>0.818000</td>\n",
       "      <td>0.503000</td>\n",
       "      <td>0.000337</td>\n",
       "      <td>0.999900</td>\n",
       "    </tr>\n",
       "    <tr>\n",
       "      <th>max</th>\n",
       "      <td>8.283431e+08</td>\n",
       "      <td>73.000000</td>\n",
       "      <td>5.000000</td>\n",
       "      <td>56.000000</td>\n",
       "      <td>6.000000</td>\n",
       "      <td>6.000000</td>\n",
       "      <td>6.000000</td>\n",
       "      <td>34516.000000</td>\n",
       "      <td>2517.000000</td>\n",
       "      <td>34516.000000</td>\n",
       "      <td>3.397000</td>\n",
       "      <td>18484.000000</td>\n",
       "      <td>139.000000</td>\n",
       "      <td>3.714000</td>\n",
       "      <td>0.999000</td>\n",
       "      <td>0.999580</td>\n",
       "      <td>0.999990</td>\n",
       "    </tr>\n",
       "  </tbody>\n",
       "</table>\n",
       "</div>"
      ],
      "text/plain": [
       "          CLIENTNUM  Customer_Age  Dependent_count  Months_on_book  \\\n",
       "count  1.012700e+04  10127.000000     10127.000000    10127.000000   \n",
       "mean   7.391776e+08     46.325960         2.346203       35.928409   \n",
       "std    3.690378e+07      8.016814         1.298908        7.986416   \n",
       "min    7.080821e+08     26.000000         0.000000       13.000000   \n",
       "25%    7.130368e+08     41.000000         1.000000       31.000000   \n",
       "50%    7.179264e+08     46.000000         2.000000       36.000000   \n",
       "75%    7.731435e+08     52.000000         3.000000       40.000000   \n",
       "max    8.283431e+08     73.000000         5.000000       56.000000   \n",
       "\n",
       "       Total_Relationship_Count  Months_Inactive_12_mon  \\\n",
       "count              10127.000000            10127.000000   \n",
       "mean                   3.812580                2.341167   \n",
       "std                    1.554408                1.010622   \n",
       "min                    1.000000                0.000000   \n",
       "25%                    3.000000                2.000000   \n",
       "50%                    4.000000                2.000000   \n",
       "75%                    5.000000                3.000000   \n",
       "max                    6.000000                6.000000   \n",
       "\n",
       "       Contacts_Count_12_mon  Credit_Limit  Total_Revolving_Bal  \\\n",
       "count           10127.000000  10127.000000         10127.000000   \n",
       "mean                2.455317   8631.953698          1162.814061   \n",
       "std                 1.106225   9088.776650           814.987335   \n",
       "min                 0.000000   1438.300000             0.000000   \n",
       "25%                 2.000000   2555.000000           359.000000   \n",
       "50%                 2.000000   4549.000000          1276.000000   \n",
       "75%                 3.000000  11067.500000          1784.000000   \n",
       "max                 6.000000  34516.000000          2517.000000   \n",
       "\n",
       "       Avg_Open_To_Buy  Total_Amt_Chng_Q4_Q1  Total_Trans_Amt  Total_Trans_Ct  \\\n",
       "count     10127.000000          10127.000000     10127.000000    10127.000000   \n",
       "mean       7469.139637              0.759941      4404.086304       64.858695   \n",
       "std        9090.685324              0.219207      3397.129254       23.472570   \n",
       "min           3.000000              0.000000       510.000000       10.000000   \n",
       "25%        1324.500000              0.631000      2155.500000       45.000000   \n",
       "50%        3474.000000              0.736000      3899.000000       67.000000   \n",
       "75%        9859.000000              0.859000      4741.000000       81.000000   \n",
       "max       34516.000000              3.397000     18484.000000      139.000000   \n",
       "\n",
       "       Total_Ct_Chng_Q4_Q1  Avg_Utilization_Ratio  \\\n",
       "count         10127.000000           10127.000000   \n",
       "mean              0.712222               0.274894   \n",
       "std               0.238086               0.275691   \n",
       "min               0.000000               0.000000   \n",
       "25%               0.582000               0.023000   \n",
       "50%               0.702000               0.176000   \n",
       "75%               0.818000               0.503000   \n",
       "max               3.714000               0.999000   \n",
       "\n",
       "       Naive_Bayes_Classifier_Attrition_Flag_Card_Category_Contacts_Count_12_mon_Dependent_count_Education_Level_Months_Inactive_12_mon_1  \\\n",
       "count                                       10127.000000                                                                                    \n",
       "mean                                            0.159997                                                                                    \n",
       "std                                             0.365301                                                                                    \n",
       "min                                             0.000008                                                                                    \n",
       "25%                                             0.000099                                                                                    \n",
       "50%                                             0.000181                                                                                    \n",
       "75%                                             0.000337                                                                                    \n",
       "max                                             0.999580                                                                                    \n",
       "\n",
       "       Naive_Bayes_Classifier_Attrition_Flag_Card_Category_Contacts_Count_12_mon_Dependent_count_Education_Level_Months_Inactive_12_mon_2  \n",
       "count                                       10127.000000                                                                                   \n",
       "mean                                            0.840003                                                                                   \n",
       "std                                             0.365301                                                                                   \n",
       "min                                             0.000420                                                                                   \n",
       "25%                                             0.999660                                                                                   \n",
       "50%                                             0.999820                                                                                   \n",
       "75%                                             0.999900                                                                                   \n",
       "max                                             0.999990                                                                                   "
      ]
     },
     "execution_count": 10,
     "metadata": {},
     "output_type": "execute_result"
    }
   ],
   "source": [
    "df.describe()"
   ]
  },
  {
   "cell_type": "markdown",
   "id": "041e6e81",
   "metadata": {
    "cell_id": "00019-0cd5ee49-4276-47b8-93ea-fd80b14f68b8",
    "deepnote_cell_type": "markdown",
    "papermill": {
     "duration": 0.027941,
     "end_time": "2022-01-13T22:13:26.763955",
     "exception": false,
     "start_time": "2022-01-13T22:13:26.736014",
     "status": "completed"
    },
    "tags": []
   },
   "source": [
    "The display shows the `count` `min`, `max`, `std` and `mean` and the `median`along with the lower and upper quartiles. With this we can get an excellent view into the range of the dataset. By knowing the percentile points (25th, 50th, and 75th) aswell as the `min`and `max`we can find outliers and [skewness](https://en.wikipedia.org/wiki/Skewness) of the distribution of the data for each column. \n",
    "\n",
    "By looking at the columns we can see that "
   ]
  },
  {
   "cell_type": "markdown",
   "id": "88d07849",
   "metadata": {
    "cell_id": "00008-000715f2-0d18-41e4-9fc1-93903513d5d2",
    "deepnote_cell_type": "markdown",
    "papermill": {
     "duration": 0.027512,
     "end_time": "2022-01-13T22:13:26.819418",
     "exception": false,
     "start_time": "2022-01-13T22:13:26.791906",
     "status": "completed"
    },
    "tags": []
   },
   "source": [
    "### Data cleaning\n"
   ]
  },
  {
   "cell_type": "markdown",
   "id": "042a5c2c",
   "metadata": {
    "cell_id": "00012-36c010fc-002a-431b-9dda-aedd86cb6168",
    "deepnote_cell_type": "markdown",
    "papermill": {
     "duration": 0.027307,
     "end_time": "2022-01-13T22:13:26.874620",
     "exception": false,
     "start_time": "2022-01-13T22:13:26.847313",
     "status": "completed"
    },
    "tags": []
   },
   "source": [
    "Now lets take a look at what columns are of most intresting and what columns we can remove.\n"
   ]
  },
  {
   "cell_type": "markdown",
   "id": "696f4c56",
   "metadata": {
    "cell_id": "00012-25123abe-5635-4c66-b54e-74d6840e0eb7",
    "deepnote_cell_type": "markdown",
    "deepnote_to_be_reexecuted": false,
    "execution_millis": 380,
    "execution_start": 1641822010423,
    "papermill": {
     "duration": 0.027713,
     "end_time": "2022-01-13T22:13:26.929981",
     "exception": false,
     "start_time": "2022-01-13T22:13:26.902268",
     "status": "completed"
    },
    "source_hash": "5c0c620d",
    "tags": []
   },
   "source": [
    "**Remove uncessary columns**"
   ]
  },
  {
   "cell_type": "markdown",
   "id": "c95b4e5a",
   "metadata": {
    "cell_id": "00026-bd1a04a2-cec2-4f50-8a64-21f540c768fb",
    "deepnote_cell_type": "markdown",
    "papermill": {
     "duration": 0.02742,
     "end_time": "2022-01-13T22:13:26.985041",
     "exception": false,
     "start_time": "2022-01-13T22:13:26.957621",
     "status": "completed"
    },
    "tags": []
   },
   "source": [
    "We got the information from the dataset source that the last two columns where to be deleted. "
   ]
  },
  {
   "cell_type": "code",
   "execution_count": 11,
   "id": "7c71138b",
   "metadata": {
    "cell_id": "00014-717cc0b6-cfe8-4c64-9308-fa7efe48d031",
    "deepnote_cell_type": "code",
    "deepnote_to_be_reexecuted": false,
    "execution": {
     "iopub.execute_input": "2022-01-13T22:13:27.043717Z",
     "iopub.status.busy": "2022-01-13T22:13:27.043128Z",
     "iopub.status.idle": "2022-01-13T22:13:27.048413Z",
     "shell.execute_reply": "2022-01-13T22:13:27.048901Z",
     "shell.execute_reply.started": "2022-01-13T21:29:26.298429Z"
    },
    "execution_millis": 2,
    "execution_start": 1642088360402,
    "jupyter": {
     "source_hidden": true
    },
    "papermill": {
     "duration": 0.036092,
     "end_time": "2022-01-13T22:13:27.049075",
     "exception": false,
     "start_time": "2022-01-13T22:13:27.012983",
     "status": "completed"
    },
    "source_hash": "23997a91",
    "tags": []
   },
   "outputs": [],
   "source": [
    "df.drop(['Naive_Bayes_Classifier_Attrition_Flag_Card_Category_Contacts_Count_12_mon_Dependent_count_Education_Level_Months_Inactive_12_mon_1',\n",
    "          'Naive_Bayes_Classifier_Attrition_Flag_Card_Category_Contacts_Count_12_mon_Dependent_count_Education_Level_Months_Inactive_12_mon_2',\n",
    "          ], axis = 1, inplace = True)"
   ]
  },
  {
   "cell_type": "markdown",
   "id": "35e7a440",
   "metadata": {
    "cell_id": "00025-26edf66b-355f-455c-b5c7-533c47ae2adf",
    "deepnote_cell_type": "markdown",
    "papermill": {
     "duration": 0.027764,
     "end_time": "2022-01-13T22:13:27.104817",
     "exception": false,
     "start_time": "2022-01-13T22:13:27.077053",
     "status": "completed"
    },
    "tags": []
   },
   "source": [
    "**Rename columns**"
   ]
  },
  {
   "cell_type": "markdown",
   "id": "c5851003",
   "metadata": {
    "cell_id": "00008-59d2bb36-07a0-4c7f-827c-396e9677fbc8",
    "deepnote_cell_type": "markdown",
    "papermill": {
     "duration": 0.027579,
     "end_time": "2022-01-13T22:13:27.160314",
     "exception": false,
     "start_time": "2022-01-13T22:13:27.132735",
     "status": "completed"
    },
    "tags": []
   },
   "source": [
    "Now lets see if we can rename some colums to make it short and easier to understand."
   ]
  },
  {
   "cell_type": "code",
   "execution_count": 12,
   "id": "d229f5e3",
   "metadata": {
    "cell_id": "00004-2f3901d2-67ca-4aa2-a7fa-afd300f92656",
    "deepnote_cell_type": "code",
    "deepnote_to_be_reexecuted": false,
    "execution": {
     "iopub.execute_input": "2022-01-13T22:13:27.221188Z",
     "iopub.status.busy": "2022-01-13T22:13:27.220230Z",
     "iopub.status.idle": "2022-01-13T22:13:27.243747Z",
     "shell.execute_reply": "2022-01-13T22:13:27.244147Z",
     "shell.execute_reply.started": "2022-01-13T21:29:26.891796Z"
    },
    "execution_millis": 100,
    "execution_start": 1642088395770,
    "jupyter": {
     "source_hidden": true
    },
    "papermill": {
     "duration": 0.056006,
     "end_time": "2022-01-13T22:13:27.244313",
     "exception": false,
     "start_time": "2022-01-13T22:13:27.188307",
     "status": "completed"
    },
    "source_hash": "1e05cbe2",
    "tags": []
   },
   "outputs": [
    {
     "data": {
      "text/html": [
       "<div>\n",
       "<style scoped>\n",
       "    .dataframe tbody tr th:only-of-type {\n",
       "        vertical-align: middle;\n",
       "    }\n",
       "\n",
       "    .dataframe tbody tr th {\n",
       "        vertical-align: top;\n",
       "    }\n",
       "\n",
       "    .dataframe thead th {\n",
       "        text-align: right;\n",
       "    }\n",
       "</style>\n",
       "<table border=\"1\" class=\"dataframe\">\n",
       "  <thead>\n",
       "    <tr style=\"text-align: right;\">\n",
       "      <th></th>\n",
       "      <th>CLIENTNUM</th>\n",
       "      <th>Status</th>\n",
       "      <th>Age</th>\n",
       "      <th>Gender</th>\n",
       "      <th>Dependent_count</th>\n",
       "      <th>Education</th>\n",
       "      <th>Marital_Status</th>\n",
       "      <th>Income_Category</th>\n",
       "      <th>Card_Category</th>\n",
       "      <th>Months_on_book</th>\n",
       "      <th>...</th>\n",
       "      <th>Months_Inactive_12_mon</th>\n",
       "      <th>Contacts_Count_12_mon</th>\n",
       "      <th>Credit_Limit</th>\n",
       "      <th>Total_Revolving_Bal</th>\n",
       "      <th>Avg_Open_To_Buy</th>\n",
       "      <th>Total_Amt_Chng_Q4_Q1</th>\n",
       "      <th>Total_Trans_Amt</th>\n",
       "      <th>Total_Trans_Ct</th>\n",
       "      <th>Total_Ct_Chng_Q4_Q1</th>\n",
       "      <th>Avg_Utilization_Ratio</th>\n",
       "    </tr>\n",
       "  </thead>\n",
       "  <tbody>\n",
       "    <tr>\n",
       "      <th>0</th>\n",
       "      <td>768805383</td>\n",
       "      <td>Existing Customer</td>\n",
       "      <td>45</td>\n",
       "      <td>M</td>\n",
       "      <td>3</td>\n",
       "      <td>High School</td>\n",
       "      <td>Married</td>\n",
       "      <td>$60K - $80K</td>\n",
       "      <td>Blue</td>\n",
       "      <td>39</td>\n",
       "      <td>...</td>\n",
       "      <td>1</td>\n",
       "      <td>3</td>\n",
       "      <td>12691.0</td>\n",
       "      <td>777</td>\n",
       "      <td>11914.0</td>\n",
       "      <td>1.335</td>\n",
       "      <td>1144</td>\n",
       "      <td>42</td>\n",
       "      <td>1.625</td>\n",
       "      <td>0.061</td>\n",
       "    </tr>\n",
       "    <tr>\n",
       "      <th>1</th>\n",
       "      <td>818770008</td>\n",
       "      <td>Existing Customer</td>\n",
       "      <td>49</td>\n",
       "      <td>F</td>\n",
       "      <td>5</td>\n",
       "      <td>Graduate</td>\n",
       "      <td>Single</td>\n",
       "      <td>Less than $40K</td>\n",
       "      <td>Blue</td>\n",
       "      <td>44</td>\n",
       "      <td>...</td>\n",
       "      <td>1</td>\n",
       "      <td>2</td>\n",
       "      <td>8256.0</td>\n",
       "      <td>864</td>\n",
       "      <td>7392.0</td>\n",
       "      <td>1.541</td>\n",
       "      <td>1291</td>\n",
       "      <td>33</td>\n",
       "      <td>3.714</td>\n",
       "      <td>0.105</td>\n",
       "    </tr>\n",
       "    <tr>\n",
       "      <th>2</th>\n",
       "      <td>713982108</td>\n",
       "      <td>Existing Customer</td>\n",
       "      <td>51</td>\n",
       "      <td>M</td>\n",
       "      <td>3</td>\n",
       "      <td>Graduate</td>\n",
       "      <td>Married</td>\n",
       "      <td>$80K - $120K</td>\n",
       "      <td>Blue</td>\n",
       "      <td>36</td>\n",
       "      <td>...</td>\n",
       "      <td>1</td>\n",
       "      <td>0</td>\n",
       "      <td>3418.0</td>\n",
       "      <td>0</td>\n",
       "      <td>3418.0</td>\n",
       "      <td>2.594</td>\n",
       "      <td>1887</td>\n",
       "      <td>20</td>\n",
       "      <td>2.333</td>\n",
       "      <td>0.000</td>\n",
       "    </tr>\n",
       "    <tr>\n",
       "      <th>3</th>\n",
       "      <td>769911858</td>\n",
       "      <td>Existing Customer</td>\n",
       "      <td>40</td>\n",
       "      <td>F</td>\n",
       "      <td>4</td>\n",
       "      <td>High School</td>\n",
       "      <td>Unknown</td>\n",
       "      <td>Less than $40K</td>\n",
       "      <td>Blue</td>\n",
       "      <td>34</td>\n",
       "      <td>...</td>\n",
       "      <td>4</td>\n",
       "      <td>1</td>\n",
       "      <td>3313.0</td>\n",
       "      <td>2517</td>\n",
       "      <td>796.0</td>\n",
       "      <td>1.405</td>\n",
       "      <td>1171</td>\n",
       "      <td>20</td>\n",
       "      <td>2.333</td>\n",
       "      <td>0.760</td>\n",
       "    </tr>\n",
       "    <tr>\n",
       "      <th>4</th>\n",
       "      <td>709106358</td>\n",
       "      <td>Existing Customer</td>\n",
       "      <td>40</td>\n",
       "      <td>M</td>\n",
       "      <td>3</td>\n",
       "      <td>Uneducated</td>\n",
       "      <td>Married</td>\n",
       "      <td>$60K - $80K</td>\n",
       "      <td>Blue</td>\n",
       "      <td>21</td>\n",
       "      <td>...</td>\n",
       "      <td>1</td>\n",
       "      <td>0</td>\n",
       "      <td>4716.0</td>\n",
       "      <td>0</td>\n",
       "      <td>4716.0</td>\n",
       "      <td>2.175</td>\n",
       "      <td>816</td>\n",
       "      <td>28</td>\n",
       "      <td>2.500</td>\n",
       "      <td>0.000</td>\n",
       "    </tr>\n",
       "  </tbody>\n",
       "</table>\n",
       "<p>5 rows × 21 columns</p>\n",
       "</div>"
      ],
      "text/plain": [
       "   CLIENTNUM             Status  Age Gender  Dependent_count    Education  \\\n",
       "0  768805383  Existing Customer   45      M                3  High School   \n",
       "1  818770008  Existing Customer   49      F                5     Graduate   \n",
       "2  713982108  Existing Customer   51      M                3     Graduate   \n",
       "3  769911858  Existing Customer   40      F                4  High School   \n",
       "4  709106358  Existing Customer   40      M                3   Uneducated   \n",
       "\n",
       "  Marital_Status Income_Category Card_Category  Months_on_book  ...  \\\n",
       "0        Married     $60K - $80K          Blue              39  ...   \n",
       "1         Single  Less than $40K          Blue              44  ...   \n",
       "2        Married    $80K - $120K          Blue              36  ...   \n",
       "3        Unknown  Less than $40K          Blue              34  ...   \n",
       "4        Married     $60K - $80K          Blue              21  ...   \n",
       "\n",
       "   Months_Inactive_12_mon  Contacts_Count_12_mon  Credit_Limit  \\\n",
       "0                       1                      3       12691.0   \n",
       "1                       1                      2        8256.0   \n",
       "2                       1                      0        3418.0   \n",
       "3                       4                      1        3313.0   \n",
       "4                       1                      0        4716.0   \n",
       "\n",
       "   Total_Revolving_Bal  Avg_Open_To_Buy  Total_Amt_Chng_Q4_Q1  \\\n",
       "0                  777          11914.0                 1.335   \n",
       "1                  864           7392.0                 1.541   \n",
       "2                    0           3418.0                 2.594   \n",
       "3                 2517            796.0                 1.405   \n",
       "4                    0           4716.0                 2.175   \n",
       "\n",
       "   Total_Trans_Amt  Total_Trans_Ct  Total_Ct_Chng_Q4_Q1  Avg_Utilization_Ratio  \n",
       "0             1144              42                1.625                  0.061  \n",
       "1             1291              33                3.714                  0.105  \n",
       "2             1887              20                2.333                  0.000  \n",
       "3             1171              20                2.333                  0.760  \n",
       "4              816              28                2.500                  0.000  \n",
       "\n",
       "[5 rows x 21 columns]"
      ]
     },
     "execution_count": 12,
     "metadata": {},
     "output_type": "execute_result"
    }
   ],
   "source": [
    "df.rename(columns = {'Attrition_Flag': 'Status','Customer_Age': 'Age', 'Education_Level' : 'Education'}, inplace = True)\n",
    "df.head()"
   ]
  },
  {
   "cell_type": "code",
   "execution_count": 13,
   "id": "1ec9d04e",
   "metadata": {
    "cell_id": "f34e487c-8aca-42c4-aada-a26b34ca9478",
    "deepnote_cell_type": "code",
    "deepnote_output_heights": [
     251.4375
    ],
    "deepnote_to_be_reexecuted": false,
    "execution": {
     "iopub.execute_input": "2022-01-13T22:13:27.306701Z",
     "iopub.status.busy": "2022-01-13T22:13:27.306106Z",
     "iopub.status.idle": "2022-01-13T22:13:27.352627Z",
     "shell.execute_reply": "2022-01-13T22:13:27.352176Z",
     "shell.execute_reply.started": "2022-01-13T21:29:27.083127Z"
    },
    "execution_millis": 222,
    "execution_start": 1642088432801,
    "jupyter": {
     "source_hidden": true
    },
    "papermill": {
     "duration": 0.080168,
     "end_time": "2022-01-13T22:13:27.352777",
     "exception": false,
     "start_time": "2022-01-13T22:13:27.272609",
     "status": "completed"
    },
    "source_hash": "1a8831a",
    "tags": []
   },
   "outputs": [
    {
     "data": {
      "text/plain": [
       "CLIENTNUM  Status             Age  Gender  Dependent_count  Education      Marital_Status  Income_Category  Card_Category  Months_on_book  Total_Relationship_Count  Months_Inactive_12_mon  Contacts_Count_12_mon  Credit_Limit  Total_Revolving_Bal  Avg_Open_To_Buy  Total_Amt_Chng_Q4_Q1  Total_Trans_Amt  Total_Trans_Ct  Total_Ct_Chng_Q4_Q1  Avg_Utilization_Ratio\n",
       "708082083  Existing Customer  45   F       3                High School    Married         Less than $40K   Blue           36              4                         3                       3                      3544.0        1661                 1883.0           0.831                 15149            111             0.734                0.469                    1\n",
       "721448283  Attrited Customer  39   F       1                Graduate       Single          Less than $40K   Blue           26              3                         3                       1                      1876.0        1536                 340.0            0.712                 2579             47              0.469                0.819                    1\n",
       "721434483  Existing Customer  54   M       3                Graduate       Married         $80K - $120K     Blue           46              4                         3                       2                      2798.0        1256                 1542.0           1.132                 2631             55              0.774                0.449                    1\n",
       "721437333  Attrited Customer  46   M       2                Graduate       Single          $80K - $120K     Blue           36              2                         2                       2                      5054.0        2517                 2537.0           0.605                 2027             39              0.393                0.498                    1\n",
       "721438233  Existing Customer  39   M       2                Post-Graduate  Single          $40K - $60K      Blue           31              6                         3                       3                      3297.0        1761                 1536.0           0.879                 15580            120             0.739                0.534                    1\n",
       "                                                                                                                                                                                                                                                                                                                                                                            ..\n",
       "714542058  Existing Customer  53   M       1                Graduate       Unknown         $60K - $80K      Silver         44              5                         2                       1                      26365.0       680                  25685.0          0.498                 3411             68              0.789                0.026                    1\n",
       "714543633  Attrited Customer  45   F       3                Unknown        Single          Less than $40K   Blue           36              1                         2                       5                      7500.0        0                    7500.0           0.576                 8024             78              0.696                0.000                    1\n",
       "714544908  Attrited Customer  56   M       4                Graduate       Divorced        $60K - $80K      Blue           36              6                         3                       3                      6224.0        0                    6224.0           0.920                 8979             68              0.581                0.000                    1\n",
       "714547458  Existing Customer  65   M       0                Graduate       Married         $40K - $60K      Blue           56              3                         3                       2                      2297.0        0                    2297.0           0.511                 1941             51              0.417                0.000                    1\n",
       "828343083  Existing Customer  43   F       4                High School    Unknown         Less than $40K   Blue           39              3                         3                       3                      2786.0        1793                 993.0            0.803                 3646             68              0.659                0.644                    1\n",
       "Length: 10127, dtype: int64"
      ]
     },
     "execution_count": 13,
     "metadata": {},
     "output_type": "execute_result"
    }
   ],
   "source": [
    "df.value_counts()"
   ]
  },
  {
   "cell_type": "markdown",
   "id": "cb2af01f",
   "metadata": {
    "cell_id": "00029-fd95873c-d501-4561-8782-3e7cb98a853a",
    "deepnote_cell_type": "markdown",
    "papermill": {
     "duration": 0.036068,
     "end_time": "2022-01-13T22:13:27.419471",
     "exception": false,
     "start_time": "2022-01-13T22:13:27.383403",
     "status": "completed"
    },
    "tags": []
   },
   "source": [
    "# Explaratory data analysis"
   ]
  },
  {
   "cell_type": "markdown",
   "id": "0571f70a",
   "metadata": {
    "cell_id": "00030-6f586950-67cc-4e2d-9bae-919ef07574b5",
    "deepnote_cell_type": "markdown",
    "papermill": {
     "duration": 0.039229,
     "end_time": "2022-01-13T22:13:27.500395",
     "exception": false,
     "start_time": "2022-01-13T22:13:27.461166",
     "status": "completed"
    },
    "tags": []
   },
   "source": [
    "**Lets explore the data and provid insightful analysis by answering some relevant questions:**\n",
    "\n",
    "- [ ] Does the credit card utilization ratio lower in churning customers?\n",
    "- [ ] Are there any significant diffrenceses between the `Attrited Customer` vs `Existing Customer` for the categorial features for the dataset?"
   ]
  },
  {
   "cell_type": "markdown",
   "id": "c2fdf5e1",
   "metadata": {
    "cell_id": "d9095c36-1b17-4da2-b72f-f23bee8b6695",
    "deepnote_cell_type": "markdown",
    "papermill": {
     "duration": 0.028792,
     "end_time": "2022-01-13T22:13:27.558989",
     "exception": false,
     "start_time": "2022-01-13T22:13:27.530197",
     "status": "completed"
    },
    "tags": []
   },
   "source": [
    "## Visualizing the data\n",
    "\n",
    "Data visualization is the graphic representation of data. It involves producing images that communicate relationships among the represented data to viewers. Visualizing data is an essential part of data analysis and machine learning. We'll use Python libraries Matplotlib and Seaborn to learn and apply some popular data visualization techniques. We'll use the words chart, plot, and graph interchangeably in this tutorial.\n",
    "\n",
    "To begin, let's install and import the libraries. We'll use the matplotlib.pyplot module for basic plots like line & bar charts. It is often imported with the alias plt. We'll use the seaborn module for more advanced plots. It is commonly imported with the alias sns."
   ]
  },
  {
   "cell_type": "markdown",
   "id": "6ce6145e",
   "metadata": {
    "cell_id": "00031-aac3d712-bf41-4013-a188-d8ba8d5d072a",
    "deepnote_cell_type": "markdown",
    "papermill": {
     "duration": 0.028484,
     "end_time": "2022-01-13T22:13:27.616963",
     "exception": false,
     "start_time": "2022-01-13T22:13:27.588479",
     "status": "completed"
    },
    "tags": []
   },
   "source": [
    "Now, lets explore the dataset to understand the customers that churned "
   ]
  },
  {
   "cell_type": "code",
   "execution_count": 14,
   "id": "9957546c",
   "metadata": {
    "cell_id": "7370474d-a617-493c-ac49-9472e937edde",
    "deepnote_cell_type": "code",
    "execution": {
     "iopub.execute_input": "2022-01-13T22:13:27.677210Z",
     "iopub.status.busy": "2022-01-13T22:13:27.676636Z",
     "iopub.status.idle": "2022-01-13T22:13:35.489590Z",
     "shell.execute_reply": "2022-01-13T22:13:35.489044Z",
     "shell.execute_reply.started": "2022-01-13T21:29:28.347557Z"
    },
    "papermill": {
     "duration": 7.843949,
     "end_time": "2022-01-13T22:13:35.489760",
     "exception": false,
     "start_time": "2022-01-13T22:13:27.645811",
     "status": "completed"
    },
    "tags": []
   },
   "outputs": [
    {
     "name": "stdout",
     "output_type": "stream",
     "text": [
      "\u001b[33mWARNING: Running pip as the 'root' user can result in broken permissions and conflicting behaviour with the system package manager. It is recommended to use a virtual environment instead: https://pip.pypa.io/warnings/venv\u001b[0m\r\n"
     ]
    }
   ],
   "source": [
    "!pip install matplotlib seaborn --upgrade --quiet"
   ]
  },
  {
   "cell_type": "code",
   "execution_count": 15,
   "id": "2296aaee",
   "metadata": {
    "cell_id": "98741562-eaf0-4401-bd3b-cf62fef12859",
    "deepnote_cell_type": "code",
    "deepnote_to_be_reexecuted": false,
    "execution": {
     "iopub.execute_input": "2022-01-13T22:13:35.554503Z",
     "iopub.status.busy": "2022-01-13T22:13:35.553888Z",
     "iopub.status.idle": "2022-01-13T22:13:36.499562Z",
     "shell.execute_reply": "2022-01-13T22:13:36.498886Z",
     "shell.execute_reply.started": "2022-01-13T21:29:37.656888Z"
    },
    "execution_millis": 4,
    "execution_start": 1642089653150,
    "jupyter": {
     "source_hidden": true
    },
    "papermill": {
     "duration": 0.980545,
     "end_time": "2022-01-13T22:13:36.499727",
     "exception": false,
     "start_time": "2022-01-13T22:13:35.519182",
     "status": "completed"
    },
    "source_hash": "2e968f5",
    "tags": []
   },
   "outputs": [],
   "source": [
    "# Lets import the libraries we will be using in the analysis \n",
    "import matplotlib\n",
    "import matplotlib.pyplot as plt\n",
    "import seaborn as sns\n",
    "%matplotlib inline"
   ]
  },
  {
   "cell_type": "code",
   "execution_count": 16,
   "id": "83f38acf",
   "metadata": {
    "cell_id": "893c441f-78b3-49ba-a0a3-f00d3b50fe82",
    "deepnote_cell_type": "code",
    "deepnote_to_be_reexecuted": false,
    "execution": {
     "iopub.execute_input": "2022-01-13T22:13:36.564431Z",
     "iopub.status.busy": "2022-01-13T22:13:36.563766Z",
     "iopub.status.idle": "2022-01-13T22:13:36.566095Z",
     "shell.execute_reply": "2022-01-13T22:13:36.566474Z",
     "shell.execute_reply.started": "2022-01-13T21:29:37.664444Z"
    },
    "execution_millis": 3,
    "execution_start": 1642089654741,
    "jupyter": {
     "source_hidden": true
    },
    "papermill": {
     "duration": 0.036825,
     "end_time": "2022-01-13T22:13:36.566649",
     "exception": false,
     "start_time": "2022-01-13T22:13:36.529824",
     "status": "completed"
    },
    "source_hash": "bd25c7ce",
    "tags": []
   },
   "outputs": [],
   "source": [
    "# Set the global plotting parameters\n",
    "sns.set_style('white')\n",
    "matplotlib.rcParams['font.size'] = 22\n",
    "matplotlib.rcParams['font.weight'] = 'bold'\n",
    "matplotlib.rcParams['figure.facecolor'] = '#00000000'"
   ]
  },
  {
   "cell_type": "markdown",
   "id": "0dce4603",
   "metadata": {
    "cell_id": "e879b5a2-38f0-43de-8bd0-9aca19a34d22",
    "deepnote_cell_type": "markdown",
    "papermill": {
     "duration": 0.028584,
     "end_time": "2022-01-13T22:13:36.624312",
     "exception": false,
     "start_time": "2022-01-13T22:13:36.595728",
     "status": "completed"
    },
    "tags": []
   },
   "source": [
    "Now lets explore the data about customers. \n",
    "We can start with finding out how many have left and how many are still existing customers:"
   ]
  },
  {
   "cell_type": "code",
   "execution_count": 17,
   "id": "df5b77ec",
   "metadata": {
    "cell_id": "98edd1df-b4fa-408f-af4c-78b97bb93294",
    "deepnote_cell_type": "code",
    "deepnote_output_heights": [
     59.5625
    ],
    "deepnote_to_be_reexecuted": false,
    "execution": {
     "iopub.execute_input": "2022-01-13T22:13:36.689711Z",
     "iopub.status.busy": "2022-01-13T22:13:36.689128Z",
     "iopub.status.idle": "2022-01-13T22:13:36.692455Z",
     "shell.execute_reply": "2022-01-13T22:13:36.691973Z",
     "shell.execute_reply.started": "2022-01-13T21:29:37.678699Z"
    },
    "execution_millis": 2,
    "execution_start": 1642090042639,
    "jupyter": {
     "source_hidden": true
    },
    "papermill": {
     "duration": 0.038771,
     "end_time": "2022-01-13T22:13:36.692599",
     "exception": false,
     "start_time": "2022-01-13T22:13:36.653828",
     "status": "completed"
    },
    "source_hash": "3b4d2973",
    "tags": []
   },
   "outputs": [
    {
     "data": {
      "text/plain": [
       "Existing Customer    8500\n",
       "Attrited Customer    1627\n",
       "Name: Status, dtype: int64"
      ]
     },
     "execution_count": 17,
     "metadata": {},
     "output_type": "execute_result"
    }
   ],
   "source": [
    "df['Status'].value_counts()"
   ]
  },
  {
   "cell_type": "code",
   "execution_count": null,
   "id": "9430ee5f",
   "metadata": {
    "cell_id": "9679c6a9-43f1-49de-adf4-d7519d8d92d6",
    "deepnote_cell_type": "code",
    "jupyter": {
     "source_hidden": true
    },
    "papermill": {
     "duration": 0.029742,
     "end_time": "2022-01-13T22:13:36.751722",
     "exception": false,
     "start_time": "2022-01-13T22:13:36.721980",
     "status": "completed"
    },
    "tags": []
   },
   "outputs": [],
   "source": []
  },
  {
   "cell_type": "markdown",
   "id": "2b4fdc2b",
   "metadata": {
    "cell_id": "a1aa96bc-32a0-4b13-918d-aa19b7aaacca",
    "deepnote_cell_type": "markdown",
    "papermill": {
     "duration": 0.029794,
     "end_time": "2022-01-13T22:13:36.811046",
     "exception": false,
     "start_time": "2022-01-13T22:13:36.781252",
     "status": "completed"
    },
    "tags": []
   },
   "source": [
    "How many % of the total customers have left?"
   ]
  },
  {
   "cell_type": "code",
   "execution_count": 18,
   "id": "61db705e",
   "metadata": {
    "cell_id": "07d2c4b8-fcf5-485c-a331-19ee5d203faa",
    "deepnote_cell_type": "code",
    "deepnote_output_heights": [
     59.5625
    ],
    "deepnote_to_be_reexecuted": false,
    "execution": {
     "iopub.execute_input": "2022-01-13T22:13:36.879848Z",
     "iopub.status.busy": "2022-01-13T22:13:36.878942Z",
     "iopub.status.idle": "2022-01-13T22:13:36.882733Z",
     "shell.execute_reply": "2022-01-13T22:13:36.882232Z",
     "shell.execute_reply.started": "2022-01-13T21:29:49.042284Z"
    },
    "execution_millis": 0,
    "execution_start": 1642090126559,
    "jupyter": {
     "source_hidden": true
    },
    "papermill": {
     "duration": 0.041505,
     "end_time": "2022-01-13T22:13:36.882871",
     "exception": false,
     "start_time": "2022-01-13T22:13:36.841366",
     "status": "completed"
    },
    "source_hash": "47657f27",
    "tags": []
   },
   "outputs": [
    {
     "data": {
      "text/plain": [
       "Existing Customer    83.9%\n",
       "Attrited Customer    16.1%\n",
       "Name: Status, dtype: object"
      ]
     },
     "execution_count": 18,
     "metadata": {},
     "output_type": "execute_result"
    }
   ],
   "source": [
    "\n",
    "df['Status'].value_counts(normalize=True).mul(100).round(1).astype(str) + '%' "
   ]
  },
  {
   "cell_type": "markdown",
   "id": "d68f52ce",
   "metadata": {
    "created_in_deepnote_cell": true,
    "deepnote_cell_type": "markdown",
    "papermill": {
     "duration": 0.029368,
     "end_time": "2022-01-13T22:13:36.941876",
     "exception": false,
     "start_time": "2022-01-13T22:13:36.912508",
     "status": "completed"
    },
    "tags": []
   },
   "source": [
    "<a style='text-decoration:none;line-height:16px;display:flex;color:#5B5B62;padding:10px;justify-content:end;' href='https://deepnote.com?utm_source=created-in-deepnote-cell&projectId=005a5f2a-4c80-4e29-8e21-1febcd15fda6' target=\"_blank\">\n",
    "<img alt='Created in deepnote.com' style='display:inline;max-height:16px;margin:0px;margin-right:7.5px;' src='data:image/svg+xml;base64,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' > </img>\n",
    "Created in <span style='font-weight:600;margin-left:4px;'>Deepnote</span></a>"
   ]
  },
  {
   "cell_type": "code",
   "execution_count": null,
   "id": "b648bd9c",
   "metadata": {
    "jupyter": {
     "source_hidden": true
    },
    "papermill": {
     "duration": 0.029351,
     "end_time": "2022-01-13T22:13:37.001713",
     "exception": false,
     "start_time": "2022-01-13T22:13:36.972362",
     "status": "completed"
    },
    "tags": []
   },
   "outputs": [],
   "source": []
  },
  {
   "cell_type": "code",
   "execution_count": null,
   "id": "f5166f65",
   "metadata": {
    "jupyter": {
     "source_hidden": true
    },
    "papermill": {
     "duration": 0.029703,
     "end_time": "2022-01-13T22:13:37.061793",
     "exception": false,
     "start_time": "2022-01-13T22:13:37.032090",
     "status": "completed"
    },
    "tags": []
   },
   "outputs": [],
   "source": []
  }
 ],
 "metadata": {
  "kernelspec": {
   "display_name": "Python 3",
   "language": "python",
   "name": "python3"
  },
  "language_info": {
   "codemirror_mode": {
    "name": "ipython",
    "version": 3
   },
   "file_extension": ".py",
   "mimetype": "text/x-python",
   "name": "python",
   "nbconvert_exporter": "python",
   "pygments_lexer": "ipython3",
   "version": "3.7.12"
  },
  "papermill": {
   "default_parameters": {},
   "duration": 30.58599,
   "end_time": "2022-01-13T22:13:37.802580",
   "environment_variables": {},
   "exception": null,
   "input_path": "__notebook__.ipynb",
   "output_path": "__notebook__.ipynb",
   "parameters": {},
   "start_time": "2022-01-13T22:13:07.216590",
   "version": "2.3.3"
  }
 },
 "nbformat": 4,
 "nbformat_minor": 5
}
